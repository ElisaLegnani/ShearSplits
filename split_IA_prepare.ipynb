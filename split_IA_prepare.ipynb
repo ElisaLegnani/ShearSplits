{
 "cells": [
  {
   "cell_type": "markdown",
   "id": "97743ba0-ac8b-4257-9e02-341dbdd2d251",
   "metadata": {},
   "source": [
    "# Reassign DecisionTree leaves by $\\Delta$IA - Prepare"
   ]
  },
  {
   "cell_type": "markdown",
   "id": "3bbdb270-61c9-4b45-9f9e-de8cefbb9e14",
   "metadata": {
    "jp-MarkdownHeadingCollapsed": true
   },
   "source": [
    "## Load Balrog-Bagpipes catalog"
   ]
  },
  {
   "cell_type": "code",
   "execution_count": 1,
   "id": "d7104434-b91d-4c44-9610-10053528b32c",
   "metadata": {},
   "outputs": [],
   "source": [
    "import pickle"
   ]
  },
  {
   "cell_type": "code",
   "execution_count": 2,
   "id": "8be50d01-5df8-4cb5-b5b6-16ddd8da3d9b",
   "metadata": {},
   "outputs": [
    {
     "name": "stdout",
     "output_type": "stream",
     "text": [
      "Length of Balrog-Bagpipes catalog: 2417437\n"
     ]
    }
   ],
   "source": [
    "file = '/global/cfs/cdirs/des/elisa/ShearSplits_data/balrog-bagpipes.pkl'\n",
    "data = pickle.load(open(file, 'rb'), encoding='latin1')\n",
    "print(f'Length of Balrog-Bagpipes catalog: {len(data)}')"
   ]
  },
  {
   "cell_type": "code",
   "execution_count": 3,
   "id": "7299dfd1-2752-462b-bdfb-ae2c6579c481",
   "metadata": {},
   "outputs": [
    {
     "name": "stdout",
     "output_type": "stream",
     "text": [
      "Length of Balrog-Bagpipes catalog (no nan): 2417396\n"
     ]
    }
   ],
   "source": [
    "data = data.dropna(subset=['stell_best', 'ssfr_best'])\n",
    "print(f'Length of Balrog-Bagpipes catalog (no nan): {len(data)}')"
   ]
  },
  {
   "cell_type": "code",
   "execution_count": 4,
   "id": "ac6dd0ac-f7cf-4335-8da5-a12e9d4cdd64",
   "metadata": {},
   "outputs": [
    {
     "name": "stdout",
     "output_type": "stream",
     "text": [
      "Length of Balrog-Bagpipes Bin0: 613544\n",
      "Length of Balrog-Bagpipes Bin1: 608122\n",
      "Length of Balrog-Bagpipes Bin2: 605458\n",
      "Length of Balrog-Bagpipes Bin3: 590272\n"
     ]
    }
   ],
   "source": [
    "for i in range(4):\n",
    "    print(f\"Length of Balrog-Bagpipes Bin{i}: {len(data[data['bin']==i])}\")"
   ]
  },
  {
   "cell_type": "markdown",
   "id": "4b55fe4e-08e4-459f-89c0-1619797186f7",
   "metadata": {
    "jp-MarkdownHeadingCollapsed": true
   },
   "source": [
    "## Load DecisionTrees and train/test samples, predictions"
   ]
  },
  {
   "cell_type": "code",
   "execution_count": 5,
   "id": "387a8a65-4520-4cd5-bed3-6f61f388401b",
   "metadata": {},
   "outputs": [],
   "source": [
    "import joblib\n",
    "import pandas as pd"
   ]
  },
  {
   "cell_type": "code",
   "execution_count": 6,
   "id": "1db86f91-0e58-4f28-a402-f592c507614b",
   "metadata": {},
   "outputs": [
    {
     "name": "stdout",
     "output_type": "stream",
     "text": [
      "Loading DecisionTree Bin0\n",
      "Loading DecisionTree Bin1\n",
      "Loading DecisionTree Bin2\n",
      "Loading DecisionTree Bin3\n"
     ]
    },
    {
     "name": "stderr",
     "output_type": "stream",
     "text": [
      "/global/homes/e/elegnani/.conda/envs/cosmo_env/lib/python3.11/site-packages/sklearn/base.py:380: InconsistentVersionWarning: Trying to unpickle estimator DecisionTreeClassifier from version 1.5.1 when using version 1.6.1. This might lead to breaking code or invalid results. Use at your own risk. For more info please refer to:\n",
      "https://scikit-learn.org/stable/model_persistence.html#security-maintainability-limitations\n",
      "  warnings.warn(\n"
     ]
    }
   ],
   "source": [
    "decisiontree_dir = '/global/cfs/cdirs/des/elisa/ShearSplits_data/decisiontree/'\n",
    "decisiontree_file_template = decisiontree_dir + 'decisiontree_bin{}.joblib'\n",
    "\n",
    "classifiers = {}\n",
    "\n",
    "for i in range(4):\n",
    "    print(f'Loading DecisionTree Bin{i}')\n",
    "    classifiers[i] = joblib.load(decisiontree_file_template.format(i))"
   ]
  },
  {
   "cell_type": "code",
   "execution_count": 7,
   "id": "64f62149-4d7f-4af0-94e6-3a5eb635cf29",
   "metadata": {},
   "outputs": [
    {
     "name": "stdout",
     "output_type": "stream",
     "text": [
      "Length of predictions catalog: 2417396\n"
     ]
    }
   ],
   "source": [
    "file = '/global/cfs/cdirs/des/elisa/ShearSplits_data/decisiontree/decisiontree_predictions.pkl'\n",
    "predictions = pickle.load(open(file, 'rb'), encoding='latin1')\n",
    "print(f'Length of predictions catalog: {len(predictions)}')\n",
    "\n",
    "# Add predictions to data\n",
    "data = pd.merge(data, predictions, on='bal_id', how='inner') # Oss: checked it does it correctly"
   ]
  },
  {
   "cell_type": "code",
   "execution_count": 8,
   "id": "b4c78459-dc3f-41da-938d-7ea8fe06b407",
   "metadata": {},
   "outputs": [
    {
     "name": "stdout",
     "output_type": "stream",
     "text": [
      "Bin0\n",
      "- Number of blue galaxies: 67964\n",
      "- Number of red galaxies:  54745\n",
      "Number of leaves: 2910\n",
      "\n",
      "Bin1\n",
      "- Number of blue galaxies: 66327\n",
      "- Number of red galaxies:  55298\n",
      "Number of leaves: 3145\n",
      "\n",
      "Bin2\n",
      "- Number of blue galaxies: 64137\n",
      "- Number of red galaxies:  56955\n",
      "Number of leaves: 3072\n",
      "\n",
      "Bin3\n",
      "- Number of blue galaxies: 67719\n",
      "- Number of red galaxies:  50336\n",
      "Number of leaves: 3091\n",
      "\n"
     ]
    }
   ],
   "source": [
    "for i in range(4):\n",
    "    X_test = data[(data['bin'] == i) & (data['label_pred'] != -1)]\n",
    "    print(f'Bin{i}')\n",
    "    print(f\"- Number of blue galaxies: {len(X_test[X_test['label_pred']==0])}\")\n",
    "    print(f\"- Number of red galaxies:  {len(X_test[X_test['label_pred']==1])}\")\n",
    "    print(f'Number of leaves: {classifiers[i].get_n_leaves()}')\n",
    "    print()"
   ]
  },
  {
   "cell_type": "markdown",
   "id": "75eb9fbd-7d19-4391-85d6-81ecd9db8969",
   "metadata": {
    "jp-MarkdownHeadingCollapsed": true
   },
   "source": [
    "## Produce table with `leaf_id`, `label`, and properties to compute SNR"
   ]
  },
  {
   "cell_type": "code",
   "execution_count": 9,
   "id": "cdb7fbf3-12dd-4d27-9b55-120192d5e47f",
   "metadata": {},
   "outputs": [],
   "source": [
    "import numpy as np\n",
    "import nz_utils as nz\n",
    "from split_IA import *"
   ]
  },
  {
   "cell_type": "code",
   "execution_count": 10,
   "id": "79e0c66f-b7b3-409a-8b16-1493813d66a9",
   "metadata": {},
   "outputs": [
    {
     "name": "stdout",
     "output_type": "stream",
     "text": [
      "Avg response {0: 0.7475089113672887, 1: 0.7088164619554643, 2: 0.6866178168646271, 3: 0.5944905021663858}\n"
     ]
    }
   ],
   "source": [
    "Responses = {}\n",
    "for i in range(4):\n",
    "    Responses[i] = np.mean(data[data['bin']==i]['unsheared/R11']+data[data['bin']==i]['unsheared/R22'])/2.\n",
    "print('Avg response', Responses)"
   ]
  },
  {
   "cell_type": "code",
   "execution_count": 11,
   "id": "3426e1b2-70a0-405c-a84c-67a36f5ee772",
   "metadata": {},
   "outputs": [],
   "source": [
    "def get_mapping(classifier, X_train, Response):\n",
    "\n",
    "    # Mapping leaf_id - label\n",
    "    leaf_ids = np.where(classifier.tree_.children_left == -1)[0]\n",
    "    leaf_labels = [np.argmax(classifier.tree_.value[leaf][0]) for leaf in leaf_ids]\n",
    "    leaf_df = pd.DataFrame({\n",
    "        'leaf_id': leaf_ids,\n",
    "        'label': leaf_labels\n",
    "    })\n",
    "    \n",
    "    # Save bal_ids of the training sample that fall into each leaf\n",
    "    flux_columns = ['unsheared/flux_i', 'unsheared/flux_r', 'unsheared/flux_z']\n",
    "    leaf_assignments = classifier.apply(X_train[flux_columns]) # Re-apply to train dataset\n",
    "    df_with_leaf = X_train.copy()\n",
    "    df_with_leaf['leaf_id'] = leaf_assignments\n",
    "    \n",
    "    bal_ids = df_with_leaf.groupby('leaf_id')['bal_id'].apply(list)\n",
    "    leaf_df = leaf_df.merge(bal_ids, on='leaf_id', how='left')\n",
    "\n",
    "    counts = bal_ids.apply(len).rename('n_train_objects')\n",
    "    leaf_df = leaf_df.merge(counts, on='leaf_id', how='left')\n",
    "    \n",
    "    empty_leaves = leaf_df[leaf_df['bal_id'].isna()]\n",
    "    if not empty_leaves.empty:\n",
    "        print('Empty leaves:', empty_leaves['leaf_id'].to_numpy())\n",
    "\n",
    "    df_with_leaf['sum_w2e2_1'] = (df_with_leaf['unsheared/weight'] ** 2) * ((df_with_leaf['unsheared/e_1'] / Response) ** 2)\n",
    "    df_with_leaf['sum_w2e2_2'] = (df_with_leaf['unsheared/weight'] ** 2) * ((df_with_leaf['unsheared/e_2'] / Response) ** 2)\n",
    "    df_with_leaf['sum_w'] = df_with_leaf['unsheared/weight']\n",
    "    df_with_leaf['sum_w2'] = df_with_leaf['unsheared/weight'] ** 2\n",
    "    \n",
    "    df_with_leaf['stell_mean'] = df_with_leaf['stell_best']\n",
    "\n",
    "    aggregations = {\n",
    "        'sum_w2e2_1': 'sum',\n",
    "        'sum_w2e2_2': 'sum',\n",
    "        'sum_w': 'sum',\n",
    "        'sum_w2': 'sum',\n",
    "        'pzc_weighted': 'mean',\n",
    "        'stell_mean': 'mean',\n",
    "    }\n",
    "    \n",
    "    stats = df_with_leaf.groupby('leaf_id').agg(aggregations).reset_index()\n",
    "    leaf_df = leaf_df.merge(stats, on='leaf_id', how='left')\n",
    "\n",
    "    len_pileup = 300\n",
    "    z3 = np.linspace(0, 2.99, len_pileup)\n",
    "\n",
    "    pz_per_leaf = df_with_leaf.groupby('leaf_id')['pzc_weighted'].apply(\n",
    "        lambda x: np.mean(np.stack(x.to_numpy()), axis=0)\n",
    "    )\n",
    "    pz_pileup_smooth = pz_per_leaf.apply(lambda pz: nz.pileup_smooth_normalize(pz, z3))\n",
    "    pz_pileup_smooth_df = pd.DataFrame({\n",
    "        'leaf_id': pz_pileup_smooth.index,\n",
    "        'pz_pileup_smooth': pz_pileup_smooth.values\n",
    "    })\n",
    "\n",
    "    z_means = pz_pileup_smooth_df['pz_pileup_smooth'].apply(nz.mean_z) # Use median instead?\n",
    "    pz_pileup_smooth_df['z_mean'] = z_means\n",
    "\n",
    "    leaf_df = leaf_df.merge(pz_pileup_smooth_df, on='leaf_id', how='left')\n",
    "\n",
    "    leaf_df['density'] = leaf_df.apply(lambda row: get_density(np.array([row['sum_w']]), np.array([row['sum_w2']])), axis=1)\n",
    "    leaf_df['shape_noise'] = leaf_df.apply(lambda row: get_shape_noise(np.array([row['sum_w2e2_1']]), np.array([row['sum_w2e2_2']]), np.array([row['sum_w']]), np.array([row['sum_w2']])), axis=1)\n",
    "    \n",
    "    return leaf_df"
   ]
  },
  {
   "cell_type": "code",
   "execution_count": 12,
   "id": "be85f71f-541e-43fe-86c6-4f576e69e5dc",
   "metadata": {},
   "outputs": [],
   "source": [
    "leaf_df = {}\n",
    "for i in range(4):\n",
    "    clf = classifiers[i]\n",
    "    X_train = data[(data['bin'] == i) & (data['label_pred'] == -1)]\n",
    "    R = Responses[i]\n",
    "\n",
    "    leaf_df[i] = get_mapping(clf, X_train, R)\n",
    "    leaf_df[i].to_pickle(f'/global/cfs/cdirs/des/elisa/ShearSplits_data/decisiontree/leaf-label_bin{i}.pkl')"
   ]
  },
  {
   "cell_type": "markdown",
   "id": "69a54a04-ed99-4de9-83ba-a1273db6b81c",
   "metadata": {
    "jp-MarkdownHeadingCollapsed": true
   },
   "source": [
    "## Produce similar table for predictions"
   ]
  },
  {
   "cell_type": "code",
   "execution_count": 13,
   "id": "90ec3e6d-9b41-428c-9b64-a8e7c9c5d0af",
   "metadata": {},
   "outputs": [],
   "source": [
    "def get_mapping_test(classifier, X_test):\n",
    "\n",
    "    # Mapping leaf_id - label\n",
    "    leaf_ids = np.where(classifier.tree_.children_left == -1)[0]\n",
    "    leaf_labels = [np.argmax(classifier.tree_.value[leaf][0]) for leaf in leaf_ids]\n",
    "    leaf_df = pd.DataFrame({\n",
    "        'leaf_id': leaf_ids,\n",
    "        'label': leaf_labels\n",
    "    })\n",
    "    \n",
    "    # Save bal_ids of the training sample that fall into each leaf\n",
    "    flux_columns = ['unsheared/flux_i', 'unsheared/flux_r', 'unsheared/flux_z']\n",
    "    leaf_assignments = classifier.apply(X_test[flux_columns]) # Re-apply to test dataset\n",
    "    df_with_leaf = X_test.copy()\n",
    "    df_with_leaf['leaf_id'] = leaf_assignments\n",
    "    \n",
    "    bal_ids = df_with_leaf.groupby('leaf_id')['bal_id'].apply(list)\n",
    "    leaf_df = leaf_df.merge(bal_ids, on='leaf_id', how='left')\n",
    "\n",
    "    counts = bal_ids.apply(len).rename('n_test_objects')\n",
    "    leaf_df = leaf_df.merge(counts, on='leaf_id', how='left')\n",
    "\n",
    "    return leaf_df"
   ]
  },
  {
   "cell_type": "code",
   "execution_count": 14,
   "id": "1c173bba-70ad-4b22-ac4b-008cdc7c7121",
   "metadata": {},
   "outputs": [],
   "source": [
    "leaf_df_test = {}\n",
    "for i in range(4):\n",
    "    clf = classifiers[i]\n",
    "    X_test = data[(data['bin'] == i) & (data['label_pred'] != -1)]\n",
    "\n",
    "    leaf_df_test[i] = get_mapping_test(clf, X_test)\n",
    "    leaf_df_test[i].to_pickle(f'/global/cfs/cdirs/des/elisa/ShearSplits_data/decisiontree/leaf-label_test_bin{i}.pkl')"
   ]
  },
  {
   "cell_type": "markdown",
   "id": "88e70f5e-6181-45db-9add-ed531cdcf467",
   "metadata": {},
   "source": [
    "## Load table with `leaf_id`, `label`, and properties to compute SNR"
   ]
  },
  {
   "cell_type": "code",
   "execution_count": 1,
   "id": "ac6fa570-d88b-4734-a1d3-50849777827c",
   "metadata": {},
   "outputs": [],
   "source": [
    "import numpy as np\n",
    "import pickle\n",
    "import os\n",
    "import nz_utils as nz\n",
    "from split_IA import *\n",
    "from plot_utils import *"
   ]
  },
  {
   "cell_type": "code",
   "execution_count": 2,
   "id": "925f3f38-09b4-47af-8410-0770fe9213d9",
   "metadata": {},
   "outputs": [],
   "source": [
    "leaf_df = {}\n",
    "for i in range(4):\n",
    "    file = f'/global/cfs/cdirs/des/elisa/ShearSplits_data/decisiontree/leaf-label_bin{i}.pkl'\n",
    "    leaf_df[i] = pickle.load(open(file, 'rb'), encoding='latin1')"
   ]
  },
  {
   "cell_type": "markdown",
   "id": "92a56019-1124-4603-8cc3-afe1bfb016da",
   "metadata": {},
   "source": [
    "## Prepare cosmosis and covariance runs"
   ]
  },
  {
   "cell_type": "markdown",
   "id": "22a8cd8c-e5ba-4c21-96b8-f4cd20159012",
   "metadata": {
    "jp-MarkdownHeadingCollapsed": true
   },
   "source": [
    "### Compute fixed cosmological parameters and cov($\\Omega_m$, $A_s$) from Planck's chain"
   ]
  },
  {
   "cell_type": "code",
   "execution_count": 12,
   "id": "b756abbb-bbcf-4815-b981-f989f8bae180",
   "metadata": {},
   "outputs": [],
   "source": [
    "from getdist import loadMCSamples, plots\n",
    "%matplotlib inline"
   ]
  },
  {
   "cell_type": "code",
   "execution_count": 13,
   "id": "382019fc-eef3-470d-85c6-f3abe1054694",
   "metadata": {},
   "outputs": [
    {
     "name": "stdout",
     "output_type": "stream",
     "text": [
      "['omegabh2', 'omegach2', 'theta', 'tau', 'logA', 'ns', 'calPlanck', 'amp_143', 'amp_217', 'amp_143x217', 'n_143', 'n_217', 'n_143x217', 'calTE', 'calEE', 'H0', 'omegal', 'omegam', 'omegamh2', 'omegamh3', 'sigma8', 'S8', 's8omegamp5', 's8omegamp25', 's8h5', 'rdragh', 'rmsdeflect', 'zrei', 'A', 'clamp', 'DL40', 'DL220', 'DL810', 'DL1420', 'DL2000', 'ns02', 'yheused', 'YpBBN', 'DHBBN', 'age', 'zstar', 'rstar', 'thetastar', 'DAstar', 'zdrag', 'rdrag', 'kd', 'thetad', 'zeq', 'keq', 'thetaeq', 'thetarseq', 'Hubble015', 'DM015', 'Hubble038', 'DM038', 'Hubble051', 'DM051', 'Hubble061', 'DM061', 'Hubble233', 'DM233', 'fsigma8z015', 'sigma8z015', 'fsigma8z038', 'sigma8z038', 'fsigma8z051', 'sigma8z051', 'fsigma8z061', 'sigma8z061', 'fsigma8z233', 'sigma8z233', 'f2000_143', 'f2000_217', 'f2000_x', 'chi2_lowl', 'chi2_simall', 'chi2_CamSpec', 'chi2_prior', 'chi2_CMB']\n"
     ]
    },
    {
     "data": {
      "image/png": "[encoded data removed]",
      "text/plain": [
       "<Figure size 400x400 with 3 Axes>"
      ]
     },
     "metadata": {},
     "output_type": "display_data"
    }
   ],
   "source": [
    "chain = loadMCSamples('cosmosis_runs/planck_chains/base_v12_5HMcln_TTTEEE_lowl_lowE') #from Efstathiou & Gratton 2021 TTTEEE\n",
    "\n",
    "param_names = chain.getParamNames().list()\n",
    "params = chain.getParams()\n",
    "\n",
    "print(param_names)\n",
    "\n",
    "omega_m = params.omegam\n",
    "A_s = params.A\n",
    "tau = params.tau\n",
    "H0 = params.H0\n",
    "n_s = params.ns\n",
    "omega_b_h2 = params.omegabh2\n",
    "omega_c_h2 = params.omegach2\n",
    "weights = chain.weights\n",
    "\n",
    "g = plots.get_subplot_plotter()\n",
    "g.triangle_plot(chain, ['omegam', 'A'], filled=True, contour_colors=['goldenrod'])\n",
    "\n",
    "plt.show()"
   ]
  },
  {
   "cell_type": "code",
   "execution_count": 14,
   "id": "c13d5df0-4ed4-4b6d-8caf-f4ba3d81cd6e",
   "metadata": {},
   "outputs": [
    {
     "name": "stdout",
     "output_type": "stream",
     "text": [
      "fixed cosmological parameters:\n",
      "   h0: 0.674461\n",
      "   ombh2: 0.022263\n",
      "   n_s: 0.967141\n",
      "   w: -1.000000\n",
      "   omega_k: 0.000000\n",
      "   tau: 0.053478\n",
      "   standard_neutrino_neff: 3.044000\n",
      "   num_massive_neutrinos: 3.000000\n",
      "   nnu: 3.044000\n",
      "   mnu: 0.060000\n",
      " omega_m: 0.313436, A_s: 2.092086e-09\n",
      "_-dOm omega_m: 0.303436, A_s: 2.092086e-09\n",
      "_+dOm omega_m: 0.323436, A_s: 2.092086e-09\n",
      "_-dAs omega_m: 0.313436, A_s: 2.082086e-09\n",
      "_+dAs omega_m: 0.313436, A_s: 2.102086e-09\n"
     ]
    }
   ],
   "source": [
    "fixed_params = {\n",
    "    'h0': np.average(H0/100, weights=weights),\n",
    "    'ombh2': np.average(omega_b_h2, weights=weights),\n",
    "    'n_s': np.average(n_s, weights=weights),\n",
    "    'w': -1.0,\n",
    "    'omega_k': 0.0,\n",
    "    'tau': np.average(tau, weights=weights),\n",
    "    'standard_neutrino_neff': 3.044,\n",
    "    'num_massive_neutrinos': 3,\n",
    "    'nnu': 3.044,\n",
    "    'mnu': 0.06,\n",
    "}\n",
    "\n",
    "print('fixed cosmological parameters:')\n",
    "for key, value in fixed_params.items():\n",
    "    print(f'   {key}: {value:.6f}')\n",
    "\n",
    "# Deltas and means Omega_m, A_s\n",
    "delta_params = [0.01, 0.01e-9]\n",
    "param_names = ['omega_m', 'A_s']\n",
    "param_means = [np.average(omega_m, weights=weights), np.average(A_s*1e-9, weights=weights)]\n",
    "\n",
    "def write_cosmo(label, omega_m_val, As_val):\n",
    "    filename = f'cosmosis_runs/cosmosis_config/values_cosmo_planck{label}.ini'\n",
    "    print(f'{label} {param_names[0]}: {omega_m_val:.6f}, {param_names[1]}: {As_val:.6e}')\n",
    "    with open(filename, 'w') as f:\n",
    "        f.write('%include /global/u1/e/elegnani/ShearSplits/cosmosis_runs/cosmosis_config/values.ini\\n')\n",
    "        f.write('\\n')\n",
    "        f.write('[cosmological_parameters]\\n')\n",
    "        f.write(f\"omega_m                =  {omega_m_val:.6f}\\n\")\n",
    "        f.write(f\"A_s                    =  {As_val:.6e}\\n\")\n",
    "        f.write(f\"h0                     =  {fixed_params['h0']:.6f}\\n\")\n",
    "        f.write(f\"ombh2                  =  {fixed_params['ombh2']:.6f}\\n\")\n",
    "        f.write(f\"n_s                    =  {fixed_params['n_s']:.6f}\\n\")\n",
    "        f.write(f\"w                      =  {fixed_params['w']}\\n\")\n",
    "        f.write(f\"omega_k                =  {fixed_params['omega_k']}\\n\")\n",
    "        f.write(f\"tau                    =  {fixed_params['tau']:.6f}\\n\")\n",
    "        f.write('\\n')\n",
    "        f.write(f\"standard_neutrino_neff =  {fixed_params['standard_neutrino_neff']:.6f}\\n\")\n",
    "        f.write(f\"num_massive_neutrinos  =  {fixed_params['num_massive_neutrinos']:.6f}\\n\")\n",
    "        f.write(f\"nnu                    =  {fixed_params['nnu']:.6f}\\n\")\n",
    "        f.write(f\"mnu                    =  {fixed_params['mnu']:.6f}\\n\")\n",
    "\n",
    "# Central values\n",
    "write_cosmo('', param_means[0], param_means[1])\n",
    "\n",
    "# ± delta for omega_m (A_s fixed)\n",
    "for sign in [-1, 1]:\n",
    "    om_val = param_means[0] + sign * delta_params[0]\n",
    "    label = f\"_{'+' if sign > 0 else '-'}dOm\"\n",
    "    write_cosmo(label, om_val, param_means[1])\n",
    "\n",
    "# ± delta for A_s (omega_m fixed)\n",
    "for sign in [-1, 1]:\n",
    "    As_val = param_means[1] + sign * delta_params[1]\n",
    "    label = f\"_{'+' if sign > 0 else '-'}dAs\"\n",
    "    write_cosmo(label, param_means[0], As_val)"
   ]
  },
  {
   "cell_type": "code",
   "execution_count": 15,
   "id": "a4ac91ad-7346-4a7c-927f-2bcf360e1f50",
   "metadata": {},
   "outputs": [
    {
     "name": "stdout",
     "output_type": "stream",
     "text": [
      "Covariance matrix between Omega_m and A_s:\n",
      "[[ 6.40386260e-05 -2.59987624e-14]\n",
      " [-2.59987624e-14  1.15500001e-21]]\n"
     ]
    }
   ],
   "source": [
    "def weighted_cov(x, y, w):\n",
    "    avg_x = np.average(x, weights=w)\n",
    "    avg_y = np.average(y, weights=w)\n",
    "    cov_xy = np.average((x - avg_x) * (y - avg_y), weights=w)\n",
    "    var_x = np.average((x - avg_x)**2, weights=w)\n",
    "    var_y = np.average((y - avg_y)**2, weights=w)\n",
    "    return np.array([[var_x, cov_xy], [cov_xy, var_y]])\n",
    "\n",
    "cov_Om_As = weighted_cov(omega_m, A_s*1e-9, weights)\n",
    "# cov_Om_As = np.cov(omega_m, A_s) # Unweighted covariance\n",
    "\n",
    "print('Covariance matrix between Omega_m and A_s:')\n",
    "print(cov_Om_As)"
   ]
  },
  {
   "cell_type": "code",
   "execution_count": 16,
   "id": "30756962-a8b1-496a-838e-6a356ecd9cc1",
   "metadata": {},
   "outputs": [],
   "source": [
    "np.savez('cosmosis_runs/means_cov_Om_As.npz',\n",
    "         names =  ['Om', 'As'],\n",
    "         means = param_means,\n",
    "         cov = cov_Om_As)"
   ]
  },
  {
   "cell_type": "markdown",
   "id": "c1e7a2ec-78a2-4630-8be6-31838fa428e0",
   "metadata": {
    "jp-MarkdownHeadingCollapsed": true
   },
   "source": [
    "### Save files with n(z)s and mean stellar masses"
   ]
  },
  {
   "cell_type": "code",
   "execution_count": 13,
   "id": "ebc610cf-7e88-4b5c-815d-5b66653b191e",
   "metadata": {},
   "outputs": [],
   "source": [
    "def prepare_cosmosis_run(leaf_df_i, log_normal_shift, output_dir, label_type='label', print_outputs=False):\n",
    "\n",
    "    results = {}\n",
    "    for label in [0, 1]:\n",
    "        df_label = leaf_df_i[leaf_df_i[label_type] == label]\n",
    "\n",
    "        pz = np.sum(df_label['pzc_weighted'] * df_label['n_train_objects'], axis=0) / np.sum(df_label['n_train_objects'])\n",
    "        nz_smooth = nz.pileup_smooth_normalize(pz, z3)\n",
    "\n",
    "        mean_stell = np.sum(df_label['stell_mean'] * df_label['n_train_objects']) / np.sum(df_label['n_train_objects'])\n",
    "\n",
    "        results[label] = {\n",
    "            'nz': nz_smooth,\n",
    "            'mean_stellar_mass': mean_stell,\n",
    "            'density': get_density(df_label['sum_w'], df_label['sum_w2']),\n",
    "            'shape_noise': get_shape_noise(df_label['sum_w2e2_1'], df_label['sum_w2e2_2'], df_label['sum_w'], df_label['sum_w2']),\n",
    "        }\n",
    "\n",
    "    # Write n(z) file\n",
    "    write_nz_file(results[0]['nz'], results[1]['nz'], output_dir)\n",
    "\n",
    "    # Save mean stellar masses to file\n",
    "    np.savetxt(f'{output_dir}/stellar_mass_mean.txt', [results[0]['mean_stellar_mass'], results[1]['mean_stellar_mass']], fmt='%.6e')\n",
    "\n",
    "    # Prepare config file\n",
    "    with open('cosmosis_runs/covariance/CosmoLike_config_demo.txt', 'rt') as f:\n",
    "        config = f.read()\n",
    "        \n",
    "    config = (config.replace('density1', str(results[0]['density']))\n",
    "                    .replace('density2', str(results[1]['density']))\n",
    "                    .replace('shape-noise1', str(results[0]['shape_noise']))\n",
    "                    .replace('shape-noise2', str(results[1]['shape_noise']))\n",
    "                    .replace('log-normal-shift-zbin', str(log_normal_shift)))\n",
    "\n",
    "    with open(f'{output_dir}/CosmoLike_config.txt', 'wt') as f:\n",
    "        f.write(config)\n",
    "\n",
    "    if print_outputs == True:\n",
    "        \n",
    "        ax.plot(z3, results[0]['nz'], color=matplotlib.colormaps['Blues'](0.5 + i/8))\n",
    "        ax.plot(z3, results[1]['nz'], color=matplotlib.colormaps['Reds'](0.5 + i/8))\n",
    "\n",
    "        print(f\" - Mean stellar mass blue: {results[0]['mean_stellar_mass']:.2f}\")\n",
    "        print(f\" - Mean stellar mass red:  {results[1]['mean_stellar_mass']:.2f}\")\n",
    "\n",
    "        print(f\" - Number density blue: {results[0]['density']:.4f}\")\n",
    "        print(f\" - Number density red:  {results[1]['density']:.4f}\")\n",
    "    \n",
    "        print(f\" - Shape noise blue: {results[0]['shape_noise']:.3f}\")\n",
    "        print(f\" - Shape noise red:  {results[1]['shape_noise']:.3f}\\n\")\n",
    "    \n",
    "    return"
   ]
  },
  {
   "cell_type": "code",
   "execution_count": 14,
   "id": "0071fbe6-f62f-4c2d-a021-7b4f754cb011",
   "metadata": {},
   "outputs": [
    {
     "name": "stdout",
     "output_type": "stream",
     "text": [
      "Bin0\n",
      " - Mean stellar mass blue: 8.99\n",
      " - Mean stellar mass red:  9.98\n",
      " - Number density blue: 0.0159\n",
      " - Number density red:  0.0140\n",
      " - Shape noise blue: 0.283\n",
      " - Shape noise red:  0.248\n",
      "\n",
      "Bin1\n",
      " - Mean stellar mass blue: 9.27\n",
      " - Mean stellar mass red:  10.34\n",
      " - Number density blue: 0.0159\n",
      " - Number density red:  0.0142\n",
      " - Shape noise blue: 0.309\n",
      " - Shape noise red:  0.265\n",
      "\n",
      "Bin2\n",
      " - Mean stellar mass blue: 9.74\n",
      " - Mean stellar mass red:  10.66\n",
      " - Number density blue: 0.0154\n",
      " - Number density red:  0.0145\n",
      " - Shape noise blue: 0.307\n",
      " - Shape noise red:  0.254\n",
      "\n",
      "Bin3\n",
      " - Mean stellar mass blue: 9.69\n",
      " - Mean stellar mass red:  10.56\n",
      " - Number density blue: 0.0166\n",
      " - Number density red:  0.0121\n",
      " - Shape noise blue: 0.371\n",
      " - Shape noise red:  0.331\n",
      "\n"
     ]
    },
    {
     "data": {
      "image/png": "[encoded data removed]",
      "text/plain": [
       "<Figure size 900x500 with 1 Axes>"
      ]
     },
     "metadata": {},
     "output_type": "display_data"
    }
   ],
   "source": [
    "fig = plt.figure(figsize=(9, 5))\n",
    "ax = fig.gca()\n",
    "\n",
    "len_pileup = 300\n",
    "z3 = np.linspace(0, 2.99, len_pileup)\n",
    "\n",
    "# Original binning\n",
    "for i in range(4):\n",
    "    print(f'Bin{i}')\n",
    "    \n",
    "    output_dir = f'/global/cfs/cdirs/des/elisa/ShearSplits_data/decisiontree/cosmosis_runs/bin{i}/full'\n",
    "    os.makedirs(output_dir, exist_ok=True)  # Create the directory if it doesn't exist\n",
    "\n",
    "    leaf_df_i = leaf_df[i]\n",
    "\n",
    "    log_normal_shift = get_log_normal_shift(i)\n",
    "    \n",
    "    prepare_cosmosis_run(leaf_df_i, log_normal_shift, output_dir, label_type='label', print_outputs=True)\n",
    "\n",
    "axis_settings(ax, z_params)\n",
    "ax.set_ylim(0, 4)\n",
    "\n",
    "plt.tight_layout()\n",
    "fig.patch.set_alpha(1.0)\n",
    "plt.show()"
   ]
  },
  {
   "cell_type": "code",
   "execution_count": 23,
   "id": "a6cf1f3d-1571-4976-9dec-cffce19d4d57",
   "metadata": {},
   "outputs": [
    {
     "name": "stdout",
     "output_type": "stream",
     "text": [
      "Bin0\n",
      "   leaf 1000\n",
      "   leaf 3000\n",
      "   leaf 5000\n",
      "Bin1\n",
      "   leaf 1000\n",
      "   leaf 4000\n",
      "   leaf 6000\n",
      "Bin2\n",
      "   leaf 1000\n",
      "   leaf 2000\n",
      "   leaf 3000\n",
      "   leaf 6000\n",
      "Bin3\n",
      "   leaf 2000\n",
      "   leaf 4000\n",
      "   leaf 5000\n"
     ]
    }
   ],
   "source": [
    "# Changed binning by swapping each leaf's label\n",
    "for i in range(4):\n",
    "    print(f'Bin{i}')\n",
    "\n",
    "    # log_normal_shift is the same\n",
    "    log_normal_shift = get_log_normal_shift(i)\n",
    "    \n",
    "    leaf_df_i = leaf_df[i]\n",
    "    unique_leaf_ids = leaf_df_i['leaf_id'].unique() # Don't need unique() - just a double check\n",
    "\n",
    "    for leaf_id in unique_leaf_ids:\n",
    "        if leaf_id % 1000 == 0: print(f'   leaf {leaf_id}') # About 2000 unique leaf_ids, id should go up to 6000\n",
    "\n",
    "        output_dir = f'/global/cfs/cdirs/des/elisa/ShearSplits_data/decisiontree/cosmosis_runs/bin{i}/leaf_{leaf_id}'\n",
    "        os.makedirs(output_dir, exist_ok=True)  # Create the directory if it doesn't exist\n",
    "    \n",
    "        # Re-make label_temp column in table equal to label\n",
    "        leaf_df_i['label_temp'] = np.copy(leaf_df_i['label'])\n",
    "\n",
    "        # Change leaf label in label_temp: swap 0 to 1 and vice versa\n",
    "        mask = leaf_df_i['leaf_id'] == leaf_id\n",
    "        leaf_df_i.loc[mask, 'label_temp'] = 1 - leaf_df_i.loc[mask, 'label_temp']\n",
    "        \n",
    "        # Assert that label_temp and label columns are different for this leaf\n",
    "        if (leaf_df_i.loc[mask, 'label_temp'] == leaf_df_i.loc[mask, 'label']).all():\n",
    "            raise AssertionError(f\"Label swap failed for leaf_id {leaf_id} in Bin{i}\")\n",
    "        \n",
    "        prepare_cosmosis_run(leaf_df_i, log_normal_shift, output_dir, label_type='label_temp', print_outputs=False)"
   ]
  },
  {
   "cell_type": "markdown",
   "id": "489e2843-7087-4c91-a3bf-c80393764142",
   "metadata": {},
   "source": [
    "## Run cosmosis"
   ]
  },
  {
   "cell_type": "code",
   "execution_count": 10,
   "id": "7911595e-e416-4808-ae04-86a92c130417",
   "metadata": {},
   "outputs": [],
   "source": [
    "import subprocess\n",
    "import shutil\n",
    "from concurrent.futures import ThreadPoolExecutor\n",
    "#from tqdm import tqdm\n",
    "\n",
    "cosmo_labels = ['planck', 'planck_+dOm', 'planck_-dOm', 'planck_+dAs', 'planck_-dAs']\n",
    "\n",
    "dirs_to_remove = [\n",
    "    'cmb_cl',\n",
    "    'cosmological_parameters',\n",
    "    'distances',\n",
    "    'fastpt',\n",
    "    'growth_parameters',\n",
    "    'intrinsic_alignment_parameters',\n",
    "    'intrinsic_power',\n",
    "    'intrinsic_power_bb',\n",
    "    'intrinsic_power_ee',\n",
    "    'matter_intrinsic_power',\n",
    "    'matter_power_lin',\n",
    "    'matter_power_nl',\n",
    "    'matter_power_transfer_func',\n",
    "    'nz_source',\n",
    "    'recfast',\n",
    "    'shear_calibration_parameters',\n",
    "    'shear_cl_bb',\n",
    "    'shear_cl_eminusb',\n",
    "    'shear_cl_eplusb',\n",
    "    'wl_photoz_errors'\n",
    "]"
   ]
  },
  {
   "cell_type": "code",
   "execution_count": 11,
   "id": "7fff5fef-ffbc-4764-8987-bb215a891280",
   "metadata": {},
   "outputs": [],
   "source": [
    "def run_cosmosis(input_dir, output_dir, cosmo_values):\n",
    "    \n",
    "    with open('cosmosis_runs/submit_cosmosis_demo.sh', 'r') as f:\n",
    "        config = f.read()\n",
    "        config = config.replace('input_dir', input_dir)\n",
    "        config = config.replace('output_dir', output_dir)\n",
    "        config = config.replace('values_cosmo.ini', cosmo_values)\n",
    "        f.close()\n",
    "\n",
    "    if os.path.exists(output_dir):\n",
    "        # Remove everything inside output_dir\n",
    "        for filename in os.listdir(output_dir):\n",
    "            file_path = os.path.join(output_dir, filename)\n",
    "            try:\n",
    "                if os.path.isfile(file_path) or os.path.islink(file_path):\n",
    "                    os.unlink(file_path)  # Remove file or link\n",
    "                elif os.path.isdir(file_path):\n",
    "                    shutil.rmtree(file_path)  # Remove dir recursively\n",
    "            except Exception as e:\n",
    "                print(f'Failed to delete {file_path}. Reason: {e}')\n",
    "    else:\n",
    "        os.makedirs(output_dir)\n",
    "\n",
    "    script_file = f'{output_dir}/submit_cosmosis.sh'\n",
    "    with open(script_file, 'wt') as f:\n",
    "        f.write(config)\n",
    "        f.close()\n",
    "\n",
    "    # Make it executable\n",
    "    subprocess.run(['chmod', '+x', script_file])\n",
    "\n",
    "    # Run the script without printing messages\n",
    "    subprocess.run(['bash', script_file], stdout=subprocess.DEVNULL, stderr=subprocess.DEVNULL)\n",
    "\n",
    "    # Remove useless directories\n",
    "    for sub_dir in dirs_to_remove:\n",
    "        full_path = os.path.join(output_dir, sub_dir)\n",
    "        if os.path.isdir(full_path):\n",
    "            shutil.rmtree(full_path)"
   ]
  },
  {
   "cell_type": "code",
   "execution_count": 14,
   "id": "5e079c78-980d-4f02-ab8e-164a3f3cf741",
   "metadata": {},
   "outputs": [
    {
     "name": "stdout",
     "output_type": "stream",
     "text": [
      "Bin0, planck cosmology\n",
      "Bin0, planck_+dOm cosmology\n",
      "Bin0, planck_-dOm cosmology\n",
      "Bin0, planck_+dAs cosmology\n",
      "Bin0, planck_-dAs cosmology\n",
      "Bin1, planck cosmology\n",
      "Bin1, planck_+dOm cosmology\n",
      "Bin1, planck_-dOm cosmology\n",
      "Bin1, planck_+dAs cosmology\n",
      "Bin1, planck_-dAs cosmology\n",
      "Bin2, planck cosmology\n",
      "Bin2, planck_+dOm cosmology\n",
      "Bin2, planck_-dOm cosmology\n",
      "Bin2, planck_+dAs cosmology\n",
      "Bin2, planck_-dAs cosmology\n",
      "Bin3, planck cosmology\n",
      "Bin3, planck_+dOm cosmology\n",
      "Bin3, planck_-dOm cosmology\n",
      "Bin3, planck_+dAs cosmology\n",
      "Bin3, planck_-dAs cosmology\n"
     ]
    }
   ],
   "source": [
    "# Original binning\n",
    "for i in range(4):\n",
    "    for cosmo_label in cosmo_labels:\n",
    "        print(f'Bin{i}, {cosmo_label} cosmology')\n",
    "\n",
    "        input_dir = f'/global/cfs/cdirs/des/elisa/ShearSplits_data/decisiontree/cosmosis_runs/bin{i}/full'\n",
    "        output_dir = f'/global/cfs/cdirs/des/elisa/ShearSplits_data/decisiontree/cosmosis_runs/bin{i}/full/shear_{cosmo_label}'\n",
    "        cosmo_values = f'values_cosmo_{cosmo_label}.ini'\n",
    "\n",
    "        run_cosmosis(input_dir, output_dir, cosmo_values)"
   ]
  },
  {
   "cell_type": "code",
   "execution_count": null,
   "id": "f1c3736d-40f5-44e3-a4f8-ad6783fc3311",
   "metadata": {},
   "outputs": [],
   "source": [
    "# Changed binning\n",
    "def run_cosmosis_leaf(leaf_id, i, cosmo_labels):\n",
    "\n",
    "    if leaf_id % 1000 == 0: print(f'   leaf {leaf_id}')\n",
    "    input_dir = f'/global/cfs/cdirs/des/elisa/ShearSplits_data/decisiontree/cosmosis_runs/bin{i}/leaf_{leaf_id}'\n",
    "    \n",
    "    for cosmo_label in cosmo_labels:\n",
    "        \n",
    "        output_dir = f'/global/cfs/cdirs/des/elisa/ShearSplits_data/decisiontree/cosmosis_runs/bin{i}/leaf_{leaf_id}/shear_{cosmo_label}'\n",
    "        cosmo_values = f'values_cosmo_{cosmo_label}.ini'\n",
    "\n",
    "        run_cosmosis(input_dir, output_dir, cosmo_values)\n",
    "        \n",
    "for i in range(4):\n",
    "    print(f'Bin{i}')\n",
    "    \n",
    "    leaf_df_i = leaf_df[i]\n",
    "    unique_leaf_ids = leaf_df_i['leaf_id'].unique()\n",
    "    \n",
    "    with ThreadPoolExecutor(max_workers=4) as executor:  \n",
    "        futures = [executor.submit(run_cosmosis_leaf, leaf_id, i, cosmo_labels) \n",
    "                   for leaf_id in unique_leaf_ids]\n",
    "        #for future in tqdm(as_completed(futures), total=len(futures), desc=\"Running cosmosis on single leaves\"):\n",
    "        for future in futures:\n",
    "            future.result()"
   ]
  },
  {
   "cell_type": "markdown",
   "id": "181021f9-2575-4586-aba9-d0a7fc3c5baa",
   "metadata": {
    "jp-MarkdownHeadingCollapsed": true
   },
   "source": [
    "## Scale IA signal by stellar mass and compute $\\Delta$IA"
   ]
  },
  {
   "cell_type": "code",
   "execution_count": 3,
   "id": "9fcc1a68-d5e4-4b69-9c42-1a386e581ec7",
   "metadata": {},
   "outputs": [],
   "source": [
    "def compute_IA_signal_stell(output_dir, stell_0=10**10, beta=1.13):\n",
    "    # From Joachimi 2011:\n",
    "    # M0 = 10**10 * M_sun\n",
    "    # beta = 1.13\n",
    "\n",
    "    bin_pairs = [('1', '1'), ('2', '2'), ('2', '1')]\n",
    "\n",
    "    # Load stellar mass means\n",
    "    stell_mean_vals = np.loadtxt(f'{output_dir}/../stellar_mass_mean.txt')\n",
    "    stell_mean = {\n",
    "        '1': 10**stell_mean_vals[0], # Stellar masses are log_10(M/M_sun)\n",
    "        '2': 10**stell_mean_vals[1],\n",
    "    }\n",
    "    \n",
    "    cl_ii_dir = f'{output_dir}/shear_cl_ii'\n",
    "    cl_gi_dir = f'{output_dir}/shear_cl_gi'\n",
    "\n",
    "    cl_ii_stell_dir = f'{output_dir}/shear_cl_ii_stell'\n",
    "    cl_gi_stell_dir = f'{output_dir}/shear_cl_gi_stell'\n",
    "\n",
    "    os.makedirs(cl_ii_stell_dir, exist_ok=True)\n",
    "    os.makedirs(cl_gi_stell_dir, exist_ok=True)\n",
    "\n",
    "    for z1, z2 in bin_pairs:\n",
    "        \n",
    "        # Load II and GI Cells\n",
    "        cl_ii = np.loadtxt(f'{cl_ii_dir}/bin_{z1}_{z2}.txt', comments='#', delimiter=',', unpack=False)\n",
    "        cl_gi = np.loadtxt(f'{cl_gi_dir}/bin_{z1}_{z2}.txt', comments='#', delimiter=',', unpack=False)\n",
    "\n",
    "        # Apply scaling\n",
    "        cl_ii_stell = cl_ii * (stell_mean[z1] / stell_0)**beta * (stell_mean[z2] / stell_0)**beta\n",
    "        cl_gi_stell = cl_gi * (stell_mean[z1] / stell_0)**beta  # if GI is computed with IA from bin 1\n",
    "\n",
    "        # Save \n",
    "        np.savetxt(f'{cl_ii_stell_dir}/bin_{z1}_{z2}.txt', cl_ii_stell)\n",
    "        np.savetxt(f'{cl_gi_stell_dir}/bin_{z1}_{z2}.txt', cl_gi_stell)\n",
    "\n",
    "\n",
    "    xi_types = ['plus', 'minus']\n",
    "    for xi_type in xi_types:\n",
    "        \n",
    "        xi_ii_dir = f'{output_dir}/shear_xi_ii_{xi_type}'\n",
    "        xi_gi_dir = f'{output_dir}/shear_xi_gi_{xi_type}'\n",
    "    \n",
    "        xi_ii_stell_dir = f'{output_dir}/shear_xi_ii_stell_{xi_type}'\n",
    "        xi_gi_stell_dir = f'{output_dir}/shear_xi_gi_stell_{xi_type}'\n",
    "    \n",
    "        os.makedirs(xi_ii_stell_dir, exist_ok=True)\n",
    "        os.makedirs(xi_gi_stell_dir, exist_ok=True)\n",
    "    \n",
    "        for z1, z2 in bin_pairs:\n",
    "            \n",
    "            # Load II and GI xis\n",
    "            xi_ii = np.loadtxt(f'{xi_ii_dir}/bin_{z1}_{z2}.txt', comments='#', delimiter=',', unpack=False)\n",
    "            xi_gi = np.loadtxt(f'{xi_gi_dir}/bin_{z1}_{z2}.txt', comments='#', delimiter=',', unpack=False)\n",
    "    \n",
    "            # Apply scaling\n",
    "            xi_ii_stell = xi_ii * (stell_mean[z1] / stell_0)**beta * (stell_mean[z2] / stell_0)**beta\n",
    "            xi_gi_stell = xi_gi * (stell_mean[z1] / stell_0)**beta  # if GI is computed with IA from bin 1\n",
    "    \n",
    "            # Save \n",
    "            np.savetxt(f'{xi_ii_stell_dir}/bin_{z1}_{z2}.txt', xi_ii_stell)\n",
    "            np.savetxt(f'{xi_gi_stell_dir}/bin_{z1}_{z2}.txt', xi_gi_stell)\n",
    "\n",
    "    return"
   ]
  },
  {
   "cell_type": "code",
   "execution_count": 4,
   "id": "46a50e41-388f-4a75-808b-f7bf1d51450e",
   "metadata": {},
   "outputs": [],
   "source": [
    "def compute_delta_IA(output_dir):\n",
    "\n",
    "    bin_pairs = [('1', '1'), ('2', '2'), ('2', '1')]\n",
    "    xi_IA = {}\n",
    "    \n",
    "    xi_types = ['plus', 'minus']\n",
    "    for xi_type in xi_types:\n",
    "        \n",
    "        xi_ii_dir = f'{output_dir}/shear_xi_ii_stell_{xi_type}'\n",
    "        xi_gi_dir = f'{output_dir}/shear_xi_gi_stell_{xi_type}'\n",
    "    \n",
    "        for z1, z2 in bin_pairs:\n",
    "        \n",
    "            # Load II and GI xis\n",
    "            xi_ii = np.loadtxt(f'{xi_ii_dir}/bin_{z1}_{z2}.txt', comments='#', delimiter=',', unpack=False)\n",
    "            xi_gi = np.loadtxt(f'{xi_gi_dir}/bin_{z1}_{z2}.txt', comments='#', delimiter=',', unpack=False)\n",
    "        \n",
    "            # Combine to get IA signal\n",
    "            xi_IA[(xi_type, z1, z2)] = xi_ii + xi_gi\n",
    "\n",
    "    delta_IA_plus = xi_IA[('plus', '2', '2')] - xi_IA[('plus', '1', '1')] # Red - Blue\n",
    "    delta_IA_minus = xi_IA[('minus', '2', '2')] - xi_IA[('minus', '1', '1')] # Red - Blue\n",
    "\n",
    "    delta_IA = np.concatenate([delta_IA_plus, delta_IA_minus])\n",
    "\n",
    "    # Save\n",
    "    np.savetxt(f'{output_dir}/delta_IA.txt', delta_IA)\n",
    "\n",
    "    return"
   ]
  },
  {
   "cell_type": "code",
   "execution_count": 19,
   "id": "040a30b0-c7fb-407a-8b85-0937787b44e6",
   "metadata": {},
   "outputs": [
    {
     "name": "stdout",
     "output_type": "stream",
     "text": [
      "Bin0, planck cosmology\n",
      "Bin0, planck_+dOm cosmology\n",
      "Bin0, planck_-dOm cosmology\n",
      "Bin0, planck_+dAs cosmology\n",
      "Bin0, planck_-dAs cosmology\n",
      "Bin1, planck cosmology\n",
      "Bin1, planck_+dOm cosmology\n",
      "Bin1, planck_-dOm cosmology\n",
      "Bin1, planck_+dAs cosmology\n",
      "Bin1, planck_-dAs cosmology\n",
      "Bin2, planck cosmology\n",
      "Bin2, planck_+dOm cosmology\n",
      "Bin2, planck_-dOm cosmology\n",
      "Bin2, planck_+dAs cosmology\n",
      "Bin2, planck_-dAs cosmology\n",
      "Bin3, planck cosmology\n",
      "Bin3, planck_+dOm cosmology\n",
      "Bin3, planck_-dOm cosmology\n",
      "Bin3, planck_+dAs cosmology\n",
      "Bin3, planck_-dAs cosmology\n"
     ]
    }
   ],
   "source": [
    "# Original binning\n",
    "for i in range(4):\n",
    "    for cosmo_label in cosmo_labels:\n",
    "        print(f'Bin{i}, {cosmo_label} cosmology')\n",
    "        output_dir = f'/global/cfs/cdirs/des/elisa/ShearSplits_data/decisiontree/cosmosis_runs/bin{i}/full/shear_{cosmo_label}'\n",
    "    \n",
    "        compute_IA_signal_stell(output_dir)\n",
    "        compute_delta_IA(output_dir)"
   ]
  },
  {
   "cell_type": "code",
   "execution_count": null,
   "id": "e3780d15-c892-4f06-97bd-3e6fe5816505",
   "metadata": {},
   "outputs": [],
   "source": [
    "# Changed binning\n",
    "for i in range(4):\n",
    "    print(f'Bin{i}')\n",
    "\n",
    "    leaf_df_i = leaf_df[i]\n",
    "    unique_leaf_ids = leaf_df_i['leaf_id'].unique()\n",
    "\n",
    "    for leaf_id in unique_leaf_ids:\n",
    "        if leaf_id % 1000 == 0: print(f'   leaf {leaf_id}')\n",
    "        \n",
    "        for cosmo_label in cosmo_labels:\n",
    "            \n",
    "            output_dir = f'/global/cfs/cdirs/des/elisa/ShearSplits_data/decisiontree/cosmosis_runs/bin{i}/leaf_{leaf_id}/shear_{cosmo_label}'\n",
    "\n",
    "            compute_IA_signal_stell(output_dir)\n",
    "            compute_delta_IA(output_dir)"
   ]
  },
  {
   "cell_type": "markdown",
   "id": "dc2becee-2691-44c8-9161-a3dd309a125b",
   "metadata": {
    "jp-MarkdownHeadingCollapsed": true
   },
   "source": [
    "## Compute covariances"
   ]
  },
  {
   "cell_type": "code",
   "execution_count": 16,
   "id": "314218f5-6903-448b-99bf-3ec9474e219c",
   "metadata": {},
   "outputs": [],
   "source": [
    "def write_cls_for_covariance(output_dir):\n",
    "    \n",
    "    cl_ii_dir = f'{output_dir}/shear_planck/shear_cl_ii_stell'\n",
    "    cl_gi_dir = f'{output_dir}/shear_planck/shear_cl_gi_stell'\n",
    "    cl_output_dir = f'{output_dir}/shear_planck/Cl_CosmoLike_Y3_Nsource4_lmax50000_zmax10'\n",
    "    os.makedirs(cl_output_dir, exist_ok=True)\n",
    "\n",
    "    bin_pairs = [('1', '1'), ('2', '2'), ('2', '1')]\n",
    "\n",
    "    for z1, z2 in bin_pairs:\n",
    "        \n",
    "        # Load II and GI Cells\n",
    "        cl_ii = np.loadtxt(f'{cl_ii_dir}/bin_{z1}_{z2}.txt', comments='#', delimiter=',', unpack=False)\n",
    "        cl_gi = np.loadtxt(f'{cl_gi_dir}/bin_{z1}_{z2}.txt', comments='#', delimiter=',', unpack=False)\n",
    "\n",
    "        # Combine to get IA signal\n",
    "        cl_IA = cl_ii + cl_gi\n",
    "        \n",
    "        # Write to file for covariance\n",
    "        output_file = f'{cl_output_dir}/Y3_3x2pt_Nsource4-Cl_f2z{z1}_f2z{z2}'\n",
    "        with open(output_file, 'w') as f:\n",
    "            for ell, cl_val in enumerate(cl_IA, start=1):\n",
    "                f.write(f'{ell} {cl_val}\\n')\n",
    "\n",
    "    # Write config file with Cells_list\n",
    "    with open('cosmosis_runs/covariance/CosmoLike_Cells_list_demo.txt', 'r') as f:\n",
    "        lines = f.readlines()\n",
    "    lines_temp = [line.replace('output_dir', f'{output_dir}/shear_planck') for line in lines]\n",
    "    with open(f'{output_dir}/CosmoLike_Cells_list.txt', 'w') as f:\n",
    "        f.writelines(lines_temp)\n",
    "\n",
    "    return"
   ]
  },
  {
   "cell_type": "code",
   "execution_count": 17,
   "id": "98e0b50b-c0c2-44af-96f2-6172115610ed",
   "metadata": {},
   "outputs": [],
   "source": [
    "def covariance_delta_IA(output_dir):\n",
    "\n",
    "    cov = np.load(f'{output_dir}/shear_planck/covariance.npy')\n",
    "\n",
    "    cov_1 = np.copy(cov[:40, :40])\n",
    "    cov_1[20:40, 20:40] = np.copy(cov[60:80, 60:80])\n",
    "    cov_1[:20, 20:40] = np.copy(cov[:20, 60:80])\n",
    "    cov_1[20:40, :20] = np.copy(cov[60:80, :20])\n",
    "\n",
    "    cov_2 = np.copy(cov[40:80, 40:80])\n",
    "    cov_2[20:40, 20:40] = np.copy(cov[100:, 100:])\n",
    "    cov_2[:20, 20:40] = np.copy(cov[40:60, 100:])\n",
    "    cov_2[20:40, :20] = np.copy(cov[100:, 40:60])\n",
    "    \n",
    "    cov_cross = np.copy(cov[20:60, 20:60])\n",
    "    cov_cross[20:40, 20:40] = np.copy(cov[80:100, 80:100])\n",
    "    cov_cross[:20, 20:40] = np.copy(cov[20:40, 80:100])\n",
    "    cov_cross[20:40, :20] = np.copy(cov[80:100, 20:40])\n",
    "\n",
    "    # Total covariance of delta_xi\n",
    "    delta_cov = cov_1 + cov_2 - cov_cross - cov_cross.T\n",
    "\n",
    "    np.save(f'{output_dir}/covariance_delta_IA.npy', delta_cov)\n",
    "    \n",
    "    return"
   ]
  },
  {
   "cell_type": "code",
   "execution_count": 18,
   "id": "64efc467-50d9-408f-a452-b13985ce17cc",
   "metadata": {},
   "outputs": [],
   "source": [
    "def covariance_cosmo(output_dir):\n",
    "\n",
    "    params = np.load('cosmosis_runs/means_cov_Om_As.npz')\n",
    "    delta_params = [0.01, 0.01e-9]\n",
    "    param_names = params['names']\n",
    "    param_means = params['means']\n",
    "    cov_params = params['cov']\n",
    "\n",
    "    delta_xi =  np.zeros((len(param_names), 40))  \n",
    "    \n",
    "    for i in range(len(param_names)):\n",
    "        file_p = f'{output_dir}/shear_planck_+d{param_names[i]}/delta_IA.txt'\n",
    "        file_m = f'{output_dir}/shear_planck_-d{param_names[i]}/delta_IA.txt'\n",
    "        delta_xi_p = np.loadtxt(file_p)\n",
    "        delta_xi_m = np.loadtxt(file_m)\n",
    "        \n",
    "        delta_xi[i] = (delta_xi_p - delta_xi_m) / (2 * delta_params[i])\n",
    "\n",
    "    cov = delta_xi.T @ cov_params @ delta_xi\n",
    "    \n",
    "    np.save(f'{output_dir}/covariance_cosmo.npy', cov)\n",
    "\n",
    "    return"
   ]
  },
  {
   "cell_type": "code",
   "execution_count": 20,
   "id": "a553fc4e-a9e2-4917-88a0-5e2f747d4ae5",
   "metadata": {},
   "outputs": [
    {
     "name": "stdout",
     "output_type": "stream",
     "text": [
      "2.8\n"
     ]
    },
    {
     "data": {
      "text/plain": [
       "CompletedProcess(args=['gsl-config', '--version'], returncode=0)"
      ]
     },
     "execution_count": 20,
     "metadata": {},
     "output_type": "execute_result"
    }
   ],
   "source": [
    "# Run the script for covariance - Fixed GSL version 2.8 but still does not work --> run from terminal\n",
    "#\n",
    "#prefix_path = os.path.expanduser('/global/u1/e/elegnani/gsl-2.8')\n",
    "#env = os.environ.copy()\n",
    "#env['PATH'] = f\"{prefix_path}/bin:\" + env.get('PATH', '')\n",
    "#env['LD_LIBRARY_PATH'] = f\"{prefix_path}/lib:\" + env.get('LD_LIBRARY_PATH', '')\n",
    "#subprocess.run(['gsl-config', '--version'], env=env) --> 2.8\n",
    "\n",
    "#script_file = 'cosmosis_runs/covariance/run_covariance.py'\n",
    "#subprocess.run(['chmod', '+x', script_file])"
   ]
  },
  {
   "cell_type": "code",
   "execution_count": 22,
   "id": "5568a733-4507-4fe9-bf56-1d542eec0500",
   "metadata": {},
   "outputs": [],
   "source": [
    "# Original binning\n",
    "for i in range(4):\n",
    "    output_dir = f'/global/cfs/cdirs/des/elisa/ShearSplits_data/decisiontree/cosmosis_runs/bin{i}/full'\n",
    "\n",
    "    covariance_cosmo(output_dir)\n",
    "    \n",
    "    write_cls_for_covariance(output_dir)\n",
    "    \n",
    "    # Run the script - Fixed GSL version 2.8 but still does not work --> run from terminal\n",
    "    #subprocess.run(['python3', script_file, output_dir], env=env)\n",
    "\n",
    "    #covariance_delta_IA(output_dir)"
   ]
  },
  {
   "cell_type": "markdown",
   "id": "6919fdd9-866b-461e-9767-f8aec8e67dba",
   "metadata": {},
   "source": [
    "Run covariance in terminal:\n",
    "\n",
    "```\n",
    "module load python\n",
    "conda activate cosmo_env\n",
    "export LD_LIBRARY_PATH=/global/u1/e/elegnani/gsl-2.8/lib:$LD_LIBRARY_PATH\n",
    "export PATH=/global/u1/e/elegnani/gsl-2.8/bin:$PATH\n",
    "\n",
    "python3 run_covariance.py {output_dir}\n",
    "```"
   ]
  },
  {
   "cell_type": "code",
   "execution_count": 25,
   "id": "e185f315-c91b-4d9b-ad25-c28b3fac1495",
   "metadata": {},
   "outputs": [],
   "source": [
    "for i in range(4):\n",
    "    output_dir = f'/global/cfs/cdirs/des/elisa/ShearSplits_data/decisiontree/cosmosis_runs/bin{i}/full'\n",
    "    covariance_delta_IA(output_dir)"
   ]
  },
  {
   "cell_type": "code",
   "execution_count": null,
   "id": "11a81bf9-6625-4f73-b618-9288204eb213",
   "metadata": {},
   "outputs": [],
   "source": [
    "# Changed binning\n",
    "def run_covariance_leaf(leaf_id, i):\n",
    "    if leaf_id % 1000 == 0: print(f'   leaf {leaf_id}')\n",
    "        \n",
    "    output_dir = f'/global/cfs/cdirs/des/elisa/ShearSplits_data/decisiontree/cosmosis_runs/bin{i}/leaf_{leaf_id}'\n",
    "\n",
    "    covariance_cosmo(output_dir)\n",
    "\n",
    "    write_cls_for_covariance(output_dir)\n",
    "\n",
    "    # Run the script - Fixed GSL version 2.8 but still does not work --> run from terminal\n",
    "    #subprocess.run(['python3', script_file, output_dir], env=env)\n",
    "\n",
    "    #covariance_delta_IA(output_dir)\n",
    "\n",
    "for i in range(4):\n",
    "    print(f'Bin{i}')\n",
    "    \n",
    "    leaf_df_i = leaf_df[i]\n",
    "    unique_leaf_ids = leaf_df_i['leaf_id'].unique()\n",
    "\n",
    "    # Prepare files for running covariance in parallel\n",
    "    with open(f'cosmosis_runs/covariance/leaf_ids_bin{i}.txt', 'w') as f:\n",
    "        for leaf_id in unique_leaf_ids:\n",
    "            f.write(f'{leaf_id}\\n')\n",
    "\n",
    "    with ThreadPoolExecutor(max_workers=4) as executor:  \n",
    "        futures = [executor.submit(run_covariance_leaf, leaf_id, i) \n",
    "                   for leaf_id in unique_leaf_ids]\n",
    "        for future in futures:\n",
    "            future.result()"
   ]
  },
  {
   "cell_type": "markdown",
   "id": "515cacc9-bf12-4b87-9a2a-bcb65fb00e20",
   "metadata": {},
   "source": [
    "Run covariance(s) in terminal:\n",
    "\n",
    "```\n",
    "module load python\n",
    "conda activate cosmo_env\n",
    "export LD_LIBRARY_PATH=/global/u1/e/elegnani/gsl-2.8/lib:$LD_LIBRARY_PATH\n",
    "export PATH=/global/u1/e/elegnani/gsl-2.8/bin:$PATH\n",
    " \n",
    "./run_covariances.sh\n",
    "```"
   ]
  },
  {
   "cell_type": "code",
   "execution_count": null,
   "id": "0b0efdc1-3a17-45c7-8101-afe6772cc690",
   "metadata": {},
   "outputs": [],
   "source": [
    "# Changed binning\n",
    "def run_covariance_leaf2(leaf_id, i):\n",
    "    if leaf_id % 1000 == 0: print(f'   leaf {leaf_id}')\n",
    "        \n",
    "    output_dir = f'/global/cfs/cdirs/des/elisa/ShearSplits_data/decisiontree/cosmosis_runs/bin{i}/leaf_{leaf_id}'\n",
    "\n",
    "    covariance_delta_IA(output_dir)\n",
    "\n",
    "for i in range(4):\n",
    "    print(f'Bin{i}')\n",
    "    \n",
    "    leaf_df_i = leaf_df[i]\n",
    "    unique_leaf_ids = leaf_df_i['leaf_id'].unique()\n",
    "\n",
    "    with ThreadPoolExecutor(max_workers=4) as executor:  \n",
    "        futures = [executor.submit(run_covariance_leaf2, leaf_id, i) \n",
    "                   for leaf_id in unique_leaf_ids]\n",
    "        for future in futures:\n",
    "            future.result()"
   ]
  },
  {
   "cell_type": "markdown",
   "id": "eb7b04eb-0f45-4e69-9bf5-384599cb6ddc",
   "metadata": {
    "jp-MarkdownHeadingCollapsed": true
   },
   "source": [
    "## Add $\\Delta$IA, $\\Delta$Cov, $\\Delta$Cov_cosmo to table"
   ]
  },
  {
   "cell_type": "code",
   "execution_count": 23,
   "id": "bca75136-5292-45a3-ab0e-5f99c7261aa7",
   "metadata": {},
   "outputs": [
    {
     "name": "stdout",
     "output_type": "stream",
     "text": [
      "Bin0\n",
      "   leaf 1000\n",
      "   leaf 3000\n",
      "   leaf 5000\n",
      "Bin1\n",
      "   leaf 1000\n",
      "   leaf 4000\n",
      "   leaf 6000\n",
      "Bin2\n",
      "   leaf 1000\n",
      "   leaf 2000\n",
      "   leaf 3000\n",
      "   leaf 6000\n",
      "Bin3\n",
      "   leaf 2000\n",
      "   leaf 4000\n",
      "   leaf 5000\n"
     ]
    }
   ],
   "source": [
    "for i in range(4):\n",
    "    print(f'Bin{i}')\n",
    "\n",
    "    output_dir = f'/global/cfs/cdirs/des/elisa/ShearSplits_data/decisiontree/cosmosis_runs/bin{i}/full'\n",
    "\n",
    "    deltaIA = np.loadtxt(f'{output_dir}/shear_planck/delta_IA.txt')\n",
    "    cov_deltaIA = np.load(f'{output_dir}/covariance_delta_IA.npy')\n",
    "    cov_cosmo = np.load(f'{output_dir}/covariance_cosmo.npy')\n",
    "    \n",
    "    leaf_df_i = leaf_df[i]\n",
    "    unique_leaf_ids = leaf_df_i['leaf_id'].unique()\n",
    "\n",
    "    DdeltaIA = {}\n",
    "    Dcov_deltaIA = {}\n",
    "    Dcov_cosmo = {}\n",
    "\n",
    "    for leaf_id in unique_leaf_ids:\n",
    "        if leaf_id % 1000 == 0: print(f'   leaf {leaf_id}')\n",
    "\n",
    "        output_dir_leaf = f'/global/cfs/cdirs/des/elisa/ShearSplits_data/decisiontree/cosmosis_runs/bin{i}/leaf_{leaf_id}'\n",
    "\n",
    "        deltaIA_leaf = np.loadtxt(f'{output_dir_leaf}/shear_planck/delta_IA.txt')\n",
    "        cov_deltaIA_leaf = np.load(f'{output_dir_leaf}/covariance_delta_IA.npy')\n",
    "        cov_cosmo_leaf = np.load(f'{output_dir_leaf}/covariance_cosmo.npy')\n",
    "\n",
    "        DdeltaIA[leaf_id] = deltaIA - deltaIA_leaf\n",
    "        Dcov_deltaIA[leaf_id] = cov_deltaIA - cov_deltaIA_leaf\n",
    "        Dcov_cosmo[leaf_id] = cov_cosmo - cov_cosmo_leaf\n",
    "\n",
    "    leaf_df_i['DdeltaIA'] = leaf_df_i['leaf_id'].map(DdeltaIA)\n",
    "    leaf_df_i['Dcov_deltaIA'] = leaf_df_i['leaf_id'].map(Dcov_deltaIA)\n",
    "    leaf_df_i['Dcov_cosmo'] = leaf_df_i['leaf_id'].map(Dcov_cosmo)\n",
    "    \n",
    "    cols_to_save = ['leaf_id', 'label', 'DdeltaIA', 'Dcov_deltaIA', 'Dcov_cosmo']\n",
    "    leaf_df_i[cols_to_save].to_pickle(f'/global/cfs/cdirs/des/elisa/ShearSplits_data/decisiontree/leaf-label_deltas_bin{i}.pkl')"
   ]
  },
  {
   "cell_type": "markdown",
   "id": "f349b5cb-9bdb-4451-8d14-b0fd875071f9",
   "metadata": {
    "jp-MarkdownHeadingCollapsed": true
   },
   "source": [
    "## Make summary pkl files for shear_cl and shear_xi"
   ]
  },
  {
   "cell_type": "code",
   "execution_count": 27,
   "id": "5a28c1aa-4739-45ab-b607-a7c205e01084",
   "metadata": {},
   "outputs": [],
   "source": [
    "dirs_names = [\n",
    "    'shear_cl', 'shear_cl_gg', 'shear_cl_gi', 'shear_cl_gi_stell', 'shear_cl_ii', 'shear_cl_ii_stell',\n",
    "    'shear_xi_gi_minus', 'shear_xi_gi_plus', 'shear_xi_gi_stell_minus', 'shear_xi_gi_stell_plus',\n",
    "    'shear_xi_ii_minus', 'shear_xi_ii_plus', 'shear_xi_ii_stell_minus', 'shear_xi_ii_stell_plus',\n",
    "    'shear_xi_minus', 'shear_xi_plus'\n",
    "]\n",
    "\n",
    "bins = ['bin_1_1', 'bin_2_1', 'bin_2_2']\n",
    "\n",
    "def write_shear_pickles(output_dir):\n",
    "\n",
    "    dirs = [f'{output_dir}/{d}' for d in dirs_names]\n",
    "    dirs_map = {f'{output_dir}/{name}': name for name in dirs_names}\n",
    "    \n",
    "    cl_dirs = [d for d in dirs if 'cl' in os.path.basename(d)]\n",
    "    xi_dirs = [d for d in dirs if 'xi' in os.path.basename(d)]\n",
    "\n",
    "    def process_measurements(measurement_dirs, data_type):\n",
    "        result = {b: {} for b in bins}\n",
    "        sample_dir = measurement_dirs[0]\n",
    "\n",
    "        # Load ell or theta\n",
    "        if data_type == 'cl':\n",
    "            axis_name = 'ell'\n",
    "            axis_vals = np.loadtxt(f'{sample_dir}/ell.txt')\n",
    "        else:\n",
    "            axis_name = 'theta'\n",
    "            axis_vals = np.loadtxt(f'{sample_dir}/theta.txt')\n",
    "            theta_edges = np.loadtxt(f'{sample_dir}/theta_edges.txt')\n",
    "\n",
    "        for b in bins:\n",
    "            result[b][axis_name] = axis_vals\n",
    "            if data_type == 'xi':\n",
    "                result[b]['theta_edges'] = theta_edges\n",
    "\n",
    "            for d in measurement_dirs:\n",
    "                fname = f'{d}/{b}.txt'\n",
    "                if os.path.exists(fname):\n",
    "                    key = dirs_map[d]  # measurement short name\n",
    "                    result[b][key] = np.loadtxt(fname)\n",
    "\n",
    "        return result\n",
    "\n",
    "    cl_data = process_measurements(cl_dirs, 'cl')\n",
    "    xi_data = process_measurements(xi_dirs, 'xi')\n",
    "\n",
    "    with open(f'{output_dir}/shear_cl.pkl', 'wb') as f:\n",
    "        pickle.dump(cl_data, f)\n",
    "\n",
    "    with open(f'{output_dir}/shear_xi.pkl', 'wb') as f:\n",
    "        pickle.dump(xi_data, f)\n",
    "\n",
    "    # Remove useless directories\n",
    "    for dname in dirs_names:\n",
    "        full_path = os.path.join(output_dir, dname)\n",
    "        if os.path.exists(full_path):\n",
    "            shutil.rmtree(full_path)"
   ]
  },
  {
   "cell_type": "code",
   "execution_count": null,
   "id": "0d82d6d9-ac4b-4e9f-aee3-b06a67e80a33",
   "metadata": {},
   "outputs": [],
   "source": [
    "# Original binning\n",
    "for i in range(4):\n",
    "    for cosmo_label in cosmo_labels:\n",
    "        print(f'Bin{i}, {cosmo_label} cosmology')\n",
    "\n",
    "        output_dir = f'/global/cfs/cdirs/des/elisa/ShearSplits_data/decisiontree/cosmosis_runs/bin{i}/full/shear_{cosmo_label}'\n",
    "\n",
    "        write_shear_pickles(output_dir)"
   ]
  },
  {
   "cell_type": "code",
   "execution_count": null,
   "id": "f8e0eb86-2141-4285-b071-521827dcb79f",
   "metadata": {},
   "outputs": [],
   "source": [
    "# Changed binning\n",
    "for i in range(4):\n",
    "    print(f'Bin{i}')\n",
    "\n",
    "    leaf_df_i = leaf_df[i]\n",
    "    unique_leaf_ids = leaf_df_i['leaf_id'].unique()\n",
    "\n",
    "    for leaf_id in unique_leaf_ids:\n",
    "        if leaf_id % 1000 == 0: print(f'   leaf {leaf_id}')\n",
    "        \n",
    "        for cosmo_label in cosmo_labels:\n",
    "            \n",
    "            output_dir = f'/global/cfs/cdirs/des/elisa/ShearSplits_data/decisiontree/cosmosis_runs/bin{i}/leaf_{leaf_id}/shear_{cosmo_label}'\n",
    "\n",
    "            write_shear_pickles(output_dir)"
   ]
  },
  {
   "cell_type": "markdown",
   "id": "8c55f8ec-c81c-432e-9b19-b3d3ebe2b34f",
   "metadata": {},
   "source": [
    "## Compute SNR"
   ]
  },
  {
   "cell_type": "code",
   "execution_count": 1,
   "id": "784d258c-51e9-4c53-90f8-5b1809044d2f",
   "metadata": {},
   "outputs": [],
   "source": [
    "import numpy as np\n",
    "import pickle"
   ]
  },
  {
   "cell_type": "code",
   "execution_count": 2,
   "id": "bab0784c-1847-4498-bce2-aa3ecf4d8043",
   "metadata": {},
   "outputs": [],
   "source": [
    "leaf_df = {}\n",
    "for i in range(4):\n",
    "    file = f'/global/cfs/cdirs/des/elisa/ShearSplits_data/decisiontree/leaf-label_deltas_bin{i}.pkl'\n",
    "    leaf_df[i] = pickle.load(open(file, 'rb'), encoding='latin1')"
   ]
  },
  {
   "cell_type": "code",
   "execution_count": 3,
   "id": "0a00ad23-39f1-4679-a3c5-37f18b81dee9",
   "metadata": {},
   "outputs": [],
   "source": [
    "def SNR(signal, cov):\n",
    "    return np.sqrt(np.dot(np.dot(signal.T, np.linalg.inv(cov)), signal))"
   ]
  },
  {
   "cell_type": "code",
   "execution_count": 4,
   "id": "4df76180-158c-42b4-ba07-d4361b4b4df2",
   "metadata": {},
   "outputs": [
    {
     "name": "stdout",
     "output_type": "stream",
     "text": [
      "Bin0\n",
      "SNR = 0.006907092557371056\n",
      "Changing leaf assignment: leaf_id = 13 , SNR = 0.006918638829485105\n",
      "Changing leaf assignment: leaf_id = 16 , SNR = 0.006924147973315973\n",
      "Changing leaf assignment: leaf_id = 17 , SNR = 0.006924294273401078\n",
      "Changing leaf assignment: leaf_id = 34 , SNR = 0.006943428307358087\n",
      "Changing leaf assignment: leaf_id = 43 , SNR = 0.006948727532736286\n",
      "Changing leaf assignment: leaf_id = 227 , SNR = 0.007036541244039991\n",
      "Changing leaf assignment: leaf_id = 539 , SNR = 0.00715001897571368\n",
      "Changing leaf assignment: leaf_id = 889 , SNR = 0.0072344191050752096\n",
      "Changing leaf assignment: leaf_id = 893 , SNR = 0.007355109430049801\n",
      "Changing leaf assignment: leaf_id = 920 , SNR = 0.007700637815580702\n",
      "   leaf 1000\n",
      "   leaf 3000\n",
      "   leaf 5000\n",
      "Bin1\n",
      "SNR = 0.01014720899241043\n",
      "Changing leaf assignment: leaf_id = 8 , SNR = 0.01016455406158266\n",
      "Changing leaf assignment: leaf_id = 17 , SNR = 0.010166829145407038\n",
      "Changing leaf assignment: leaf_id = 18 , SNR = 0.01017031955335302\n",
      "Changing leaf assignment: leaf_id = 21 , SNR = 0.01017080767474366\n",
      "Changing leaf assignment: leaf_id = 53 , SNR = 0.010171453316427185\n",
      "Changing leaf assignment: leaf_id = 75 , SNR = 0.010771317889611318\n",
      "   leaf 1000\n",
      "   leaf 4000\n",
      "   leaf 6000\n",
      "Bin2\n",
      "SNR = 0.0028582052223141943\n",
      "Changing leaf assignment: leaf_id = 9 , SNR = 0.002866269223819872\n",
      "Changing leaf assignment: leaf_id = 11 , SNR = 0.0028827199855912533\n",
      "   leaf 1000\n",
      "   leaf 2000\n",
      "   leaf 3000\n",
      "Changing leaf assignment: leaf_id = 4140 , SNR = 0.002915072756011379\n",
      "Changing leaf assignment: leaf_id = 5909 , SNR = 0.0029445961299793557\n",
      "   leaf 6000\n",
      "Bin3\n",
      "SNR = 0.005455904081392437\n",
      "Changing leaf assignment: leaf_id = 7 , SNR = 0.00545713916327468\n",
      "Changing leaf assignment: leaf_id = 10 , SNR = 0.005461379967794953\n",
      "Changing leaf assignment: leaf_id = 943 , SNR = 0.005501471735260889\n",
      "Changing leaf assignment: leaf_id = 944 , SNR = 0.005528676801009171\n",
      "   leaf 2000\n",
      "   leaf 4000\n",
      "   leaf 5000\n"
     ]
    }
   ],
   "source": [
    "for i in range(4):\n",
    "    print(f'Bin{i}')\n",
    "\n",
    "    output_dir = f'/global/cfs/cdirs/des/elisa/ShearSplits_data/decisiontree/cosmosis_runs/bin{i}/full'\n",
    "\n",
    "    deltaIA = np.loadtxt(f'{output_dir}/shear_planck/delta_IA.txt')\n",
    "    cov_deltaIA = np.load(f'{output_dir}/covariance_delta_IA.npy')\n",
    "    cov_cosmo = np.load(f'{output_dir}/covariance_cosmo.npy')\n",
    "    cov = cov_deltaIA + cov_cosmo\n",
    "    \n",
    "    leaf_df_i = leaf_df[i]\n",
    "    leaf_df_i['label_final'] = np.copy(leaf_df_i['label'])\n",
    "    unique_leaf_ids = leaf_df_i['leaf_id'].unique()\n",
    "\n",
    "    SNR_original = SNR(deltaIA, cov)\n",
    "    print('SNR =', SNR_original)\n",
    "    \n",
    "    SRN_updated = SNR_original\n",
    "\n",
    "    for leaf_id in unique_leaf_ids:\n",
    "        if leaf_id % 1000 == 0: print(f'   leaf {leaf_id}')\n",
    "\n",
    "        mask = leaf_df_i['leaf_id'] == leaf_id\n",
    "        DdeltaIA = leaf_df_i.loc[mask, 'DdeltaIA'].values[0]\n",
    "        Dcov_deltaIA = leaf_df_i.loc[mask, 'Dcov_deltaIA'].values[0]\n",
    "        Dcov_cosmo = leaf_df_i.loc[mask, 'Dcov_cosmo'].values[0]\n",
    "\n",
    "        SRN_new = SNR(deltaIA + DdeltaIA, (cov_deltaIA + Dcov_deltaIA) + (cov_cosmo + Dcov_cosmo))\n",
    "\n",
    "        if SRN_new > SRN_updated:\n",
    "            print('Changing leaf assignment: leaf_id =', leaf_id, ', SNR =', SRN_new)\n",
    "            leaf_df_i.loc[mask, 'label_final'] = 1 - leaf_df_i.loc[mask, 'label_final'] # Change final assignment\n",
    "            SRN_updated = SRN_new\n",
    "\n",
    "    cols_to_save = ['leaf_id', 'label', 'DdeltaIA', 'Dcov_deltaIA', 'Dcov_cosmo', 'label_final']\n",
    "    leaf_df_i[cols_to_save].to_pickle(f'/global/cfs/cdirs/des/elisa/ShearSplits_data/decisiontree/leaf-label_deltas_newlabels_bin{i}.pkl')"
   ]
  },
  {
   "cell_type": "code",
   "execution_count": null,
   "id": "833959a1-9f99-4c9d-9d3a-bd06c5ab6ac3",
   "metadata": {},
   "outputs": [],
   "source": [
    "# For a second round, take into account those leaves that have been changed and use -DdeltaIA, -Dcov_deltaIA -Dcov_cosmo ?"
   ]
  }
 ],
 "metadata": {
  "kernelspec": {
   "display_name": "cosmo_env",
   "language": "python",
   "name": "cosmo_env"
  },
  "language_info": {
   "codemirror_mode": {
    "name": "ipython",
    "version": 3
   },
   "file_extension": ".py",
   "mimetype": "text/x-python",
   "name": "python",
   "nbconvert_exporter": "python",
   "pygments_lexer": "ipython3",
   "version": "3.11.7"
  }
 },
 "nbformat": 4,
 "nbformat_minor": 5
}
