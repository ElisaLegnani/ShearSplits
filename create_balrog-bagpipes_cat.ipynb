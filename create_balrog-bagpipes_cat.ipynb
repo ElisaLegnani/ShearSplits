{
 "cells": [
  {
   "cell_type": "code",
   "execution_count": 1,
   "id": "720aa78e-c2b7-41fc-ac12-012aeaac2dda",
   "metadata": {},
   "outputs": [],
   "source": [
    "import numpy as np\n",
    "from create_cat import assign_balrog_zbins, merge_bagpipes, merge_balrog_bagpipes, apply_nzs_weighting, columns_to_drop"
   ]
  },
  {
   "cell_type": "markdown",
   "id": "db9c4a62-1e4c-4bdc-8422-cc45b7ecda5a",
   "metadata": {},
   "source": [
    "# Create Balrog-Bagpipes catalog "
   ]
  },
  {
   "cell_type": "markdown",
   "id": "1978ddef-2fe1-404a-86d3-9248c09ec2ca",
   "metadata": {},
   "source": [
    "## Load Balrog galaxies and assign redshift bins and n(z)s"
   ]
  },
  {
   "cell_type": "code",
   "execution_count": 2,
   "id": "8be9afc1-54b2-45d3-b688-71d10cd8066a",
   "metadata": {},
   "outputs": [
    {
     "name": "stdout",
     "output_type": "stream",
     "text": [
      "Running assign Balrog to zbins\n",
      "\n",
      "reading pcchat...\n",
      "Illegal slicing argument for scalar dataspace\n",
      "just putting None\n",
      "reading zp...\n",
      "...success\n",
      "zeropoint = 30\n",
      "reading columns...\n",
      "...success\n",
      "reading SOMs...\n",
      "...success\n",
      "using overlap_weight as stored in CellMap.data\n",
      "\n",
      "Loaded Balrog entries: 2417437\n",
      "Unique Balrog sources: 267229\n",
      "\n",
      "Assigned wide SOM using unsheared fluxes\n",
      "Assigned wide SOM using sheared_1p fluxes\n",
      "Assigned wide SOM using sheared_1m fluxes\n",
      "Assigned wide SOM using sheared_2p fluxes\n",
      "Assigned wide SOM using sheared_2m fluxes\n",
      "Completed wide SOM assignment\n",
      "Completed deep SOM assignment\n",
      "\n",
      "Assigned tomographic bins\n",
      "Assigned photometric redshift cell (pzc)\n"
     ]
    }
   ],
   "source": [
    "balrog_data = assign_balrog_zbins()"
   ]
  },
  {
   "cell_type": "markdown",
   "id": "aeaf9305-8f43-4e5c-97ac-798ac3124cf2",
   "metadata": {},
   "source": [
    "## Load Bagpipes physical properties"
   ]
  },
  {
   "cell_type": "code",
   "execution_count": 3,
   "id": "c61b03cf-e798-4d36-9c06-5ebff64eff8a",
   "metadata": {},
   "outputs": [
    {
     "name": "stdout",
     "output_type": "stream",
     "text": [
      "Running merge Bagpipes runs\n",
      "\n",
      "Length of Bagpipes catalog 1: 489046\n",
      "Length of Bagpipes catalog 2: 358370\n",
      "Length of Bagpipes catalog 3: 358371\n",
      "Length of Bagpipes catalog 4: 358370\n",
      "Length of Bagpipes catalog 5: 358371\n",
      "Length of Bagpipes extra COSMOS catalog: 57997\n",
      "\n",
      "Length of merged Bagpipes catalogs: 1979779\n"
     ]
    }
   ],
   "source": [
    "bagpipes_data = merge_bagpipes()"
   ]
  },
  {
   "cell_type": "markdown",
   "id": "41c00b90-ba59-41bf-8182-ce165157b872",
   "metadata": {},
   "source": [
    "## Merge Balrog-Bagpipes"
   ]
  },
  {
   "cell_type": "code",
   "execution_count": 4,
   "id": "876bcd49-016f-4518-a680-f4f0cd38d75d",
   "metadata": {},
   "outputs": [
    {
     "name": "stdout",
     "output_type": "stream",
     "text": [
      "Running merge Balrog with Bagpipes\n",
      "\n",
      "Length of Balrog single sources matching by coordinates with Bagpipes: 267229\n",
      "Length of Balrog data matching with Bagpipes: 2417437\n"
     ]
    }
   ],
   "source": [
    "data = merge_balrog_bagpipes(balrog_data, bagpipes_data)"
   ]
  },
  {
   "cell_type": "markdown",
   "id": "330d9ce9-e51d-4658-9d55-0e7776b9540c",
   "metadata": {},
   "source": [
    "## Reweight n(z)s"
   ]
  },
  {
   "cell_type": "code",
   "execution_count": 5,
   "id": "d2b421f4-af47-4bac-a001-932be6028689",
   "metadata": {},
   "outputs": [
    {
     "name": "stdout",
     "output_type": "stream",
     "text": [
      "Shear weights adjusted\n",
      "Response weights adjusted\n"
     ]
    }
   ],
   "source": [
    "data['overlap_weight'] = apply_nzs_weighting(data['unsheared/snr'], data['unsheared/T'], data['unsheared/size_ratio'])\n",
    "data['pzc_weighted'] = data['pzc'] * data['overlap_weight']/np.mean(data['overlap_weight']) # Mean weight is 1"
   ]
  },
  {
   "cell_type": "markdown",
   "id": "d809a0fc-a14e-413e-ac2e-69b9b2bed71f",
   "metadata": {},
   "source": [
    "## Drop some columns"
   ]
  },
  {
   "cell_type": "code",
   "execution_count": 6,
   "id": "34982b3b-8473-4ef5-b538-9daac4cf2a9e",
   "metadata": {},
   "outputs": [],
   "source": [
    "data = data.drop(columns=columns_to_drop)"
   ]
  },
  {
   "cell_type": "markdown",
   "id": "c8c21076-ea94-4b22-b380-ef42c374c64d",
   "metadata": {},
   "source": [
    "## Save catalog"
   ]
  },
  {
   "cell_type": "code",
   "execution_count": 8,
   "id": "874d5d10-6299-44d7-8d31-2d9238216263",
   "metadata": {},
   "outputs": [],
   "source": [
    "file_out = '/global/cfs/cdirs/des/elisa/IA_decisiontree/decisiontree_data/balrog-bagpipes.pkl'\n",
    "data.to_pickle(file_out)"
   ]
  },
  {
   "cell_type": "markdown",
   "id": "8c01de6e-f736-4353-9fd6-a22769884308",
   "metadata": {},
   "source": [
    "# Load Balrog-Bagpipes catalog"
   ]
  },
  {
   "cell_type": "code",
   "execution_count": 1,
   "id": "3ad0ed3f-fd92-4ed9-85ab-570aa6070ebb",
   "metadata": {},
   "outputs": [],
   "source": [
    "import numpy as np\n",
    "import pickle"
   ]
  },
  {
   "cell_type": "code",
   "execution_count": 2,
   "id": "aac7a4fc-6cc9-4ab2-b086-0c152686f93e",
   "metadata": {},
   "outputs": [
    {
     "name": "stdout",
     "output_type": "stream",
     "text": [
      "Length of Balrog-Bagpipes catalog: 2417437\n"
     ]
    }
   ],
   "source": [
    "file = '/global/cfs/cdirs/des/elisa/IA_decisiontree/decisiontree_data/balrog-bagpipes.pkl'\n",
    "data = pickle.load(open(file, 'rb'), encoding='latin1')\n",
    "print(f'Length of Balrog-Bagpipes catalog: {len(data)}')"
   ]
  },
  {
   "cell_type": "code",
   "execution_count": 3,
   "id": "9970babc-ac86-4af7-938f-f4b536401c6f",
   "metadata": {},
   "outputs": [
    {
     "name": "stdout",
     "output_type": "stream",
     "text": [
      "Length of Balrog-Bagpipes catalog (no nan): 2417396\n"
     ]
    }
   ],
   "source": [
    "data = data.dropna(subset=['stell_best', 'ssfr_best'])\n",
    "print(f'Length of Balrog-Bagpipes catalog (no nan): {len(data)}')"
   ]
  },
  {
   "cell_type": "code",
   "execution_count": 4,
   "id": "e894cd01-02cf-4d47-b6a8-7e3c62ad2df8",
   "metadata": {},
   "outputs": [
    {
     "name": "stdout",
     "output_type": "stream",
     "text": [
      "Length of Balrog-Bagpipes Bin0: 613544\n",
      "Length of Balrog-Bagpipes Bin1: 608122\n",
      "Length of Balrog-Bagpipes Bin2: 605458\n",
      "Length of Balrog-Bagpipes Bin3: 590272\n"
     ]
    }
   ],
   "source": [
    "for i in range(4):\n",
    "    print(f'Length of Balrog-Bagpipes Bin{i}: {len(data[data[\"bin\"]==i])}')"
   ]
  },
  {
   "cell_type": "code",
   "execution_count": null,
   "id": "b0d913a7-a8a5-4f34-80bb-7c9fdcf68a7f",
   "metadata": {},
   "outputs": [],
   "source": []
  }
 ],
 "metadata": {
  "kernelspec": {
   "display_name": "des-y6",
   "language": "python",
   "name": "des-y6"
  },
  "language_info": {
   "codemirror_mode": {
    "name": "ipython",
    "version": 3
   },
   "file_extension": ".py",
   "mimetype": "text/x-python",
   "name": "python",
   "nbconvert_exporter": "python",
   "pygments_lexer": "ipython3",
   "version": "3.11.9"
  }
 },
 "nbformat": 4,
 "nbformat_minor": 5
}
