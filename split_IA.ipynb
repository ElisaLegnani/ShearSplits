{
 "cells": [
  {
   "cell_type": "markdown",
   "id": "97743ba0-ac8b-4257-9e02-341dbdd2d251",
   "metadata": {},
   "source": [
    "# Reassign DecisionTree leaves by $\\Delta$IA"
   ]
  },
  {
   "cell_type": "markdown",
   "id": "8c55f8ec-c81c-432e-9b19-b3d3ebe2b34f",
   "metadata": {},
   "source": [
    "## Compute SNR"
   ]
  },
  {
   "cell_type": "code",
   "execution_count": null,
   "id": "784d258c-51e9-4c53-90f8-5b1809044d2f",
   "metadata": {},
   "outputs": [],
   "source": [
    "import numpy as np\n",
    "import pickle"
   ]
  },
  {
   "cell_type": "code",
   "execution_count": null,
   "id": "bab0784c-1847-4498-bce2-aa3ecf4d8043",
   "metadata": {},
   "outputs": [],
   "source": [
    "leaf_df = {}\n",
    "for i in range(4):\n",
    "    file = f'/global/cfs/cdirs/des/elisa/ShearSplits_data/decisiontree/leaf-label_deltas_bin{i}.pkl'\n",
    "    leaf_df[i] = pickle.load(open(file, 'rb'), encoding='latin1')"
   ]
  },
  {
   "cell_type": "code",
   "execution_count": null,
   "id": "0a00ad23-39f1-4679-a3c5-37f18b81dee9",
   "metadata": {},
   "outputs": [],
   "source": [
    "def SNR(signal, cov):\n",
    "    return np.sqrt(np.dot(np.dot(signal.T, np.linalg.inv(cov)), signal))"
   ]
  },
  {
   "cell_type": "code",
   "execution_count": null,
   "id": "4df76180-158c-42b4-ba07-d4361b4b4df2",
   "metadata": {},
   "outputs": [],
   "source": [
    "for i in range(4):\n",
    "    print(f'Bin{i}')\n",
    "\n",
    "    output_dir = f'/global/cfs/cdirs/des/elisa/ShearSplits_data/decisiontree/cosmosis_runs/bin{i}/full'\n",
    "\n",
    "    deltaIA = np.loadtxt(f'{output_dir}/shear_planck/delta_IA.txt')\n",
    "    cov_deltaIA = np.load(f'{output_dir}/covariance_delta_IA.npy')\n",
    "    cov_cosmo = np.load(f'{output_dir}/covariance_cosmo.npy')\n",
    "    cov = cov_deltaIA + cov_cosmo\n",
    "    \n",
    "    leaf_df_i = leaf_df[i]\n",
    "    leaf_df_i['label_final'] = np.copy(leaf_df_i['label'])\n",
    "    unique_leaf_ids = leaf_df_i['leaf_id'].unique()\n",
    "\n",
    "    SNR_original = SNR(deltaIA, cov)\n",
    "    print('SNR =', SNR_original)\n",
    "    \n",
    "    SRN_updated = SNR_original\n",
    "\n",
    "    for leaf_id in unique_leaf_ids:\n",
    "        if leaf_id % 1000 == 0: print(f'   leaf {leaf_id}')\n",
    "\n",
    "        mask = leaf_df_i['leaf_id'] == leaf_id\n",
    "        DdeltaIA = leaf_df_i.loc[mask, 'DdeltaIA'].values[0]\n",
    "        Dcov_deltaIA = leaf_df_i.loc[mask, 'Dcov_deltaIA'].values[0]\n",
    "        Dcov_cosmo = leaf_df_i.loc[mask, 'Dcov_cosmo'].values[0]\n",
    "\n",
    "        SRN_new = SNR(deltaIA + DdeltaIA, (cov_deltaIA + Dcov_deltaIA) + (cov_cosmo + Dcov_cosmo))\n",
    "\n",
    "        if SRN_new > SRN_updated:\n",
    "            print('Changing leaf assignment: leaf_id =', leaf_id, ', SNR =', SRN_new)\n",
    "            leaf_df_i.loc[mask, 'label_final'] = 1 - leaf_df_i.loc[mask, 'label_final'] # Change final assignment\n",
    "            SRN_updated = SRN_new\n",
    "\n",
    "    cols_to_save = ['leaf_id', 'label', 'DdeltaIA', 'Dcov_deltaIA', 'Dcov_cosmo', 'label_final']\n",
    "    leaf_df_i[cols_to_save].to_pickle(f'/global/cfs/cdirs/des/elisa/ShearSplits_data/decisiontree/leaf-label_deltas_newlabels_bin{i}.pkl')"
   ]
  },
  {
   "cell_type": "code",
   "execution_count": null,
   "id": "833959a1-9f99-4c9d-9d3a-bd06c5ab6ac3",
   "metadata": {},
   "outputs": [],
   "source": [
    "# For a second round, take into account those leaves that have been changed and use -DdeltaIA, -Dcov_deltaIA -Dcov_cosmo ?"
   ]
  }
 ],
 "metadata": {
  "kernelspec": {
   "display_name": "cosmo_env",
   "language": "python",
   "name": "cosmo_env"
  },
  "language_info": {
   "codemirror_mode": {
    "name": "ipython",
    "version": 3
   },
   "file_extension": ".py",
   "mimetype": "text/x-python",
   "name": "python",
   "nbconvert_exporter": "python",
   "pygments_lexer": "ipython3",
   "version": "3.11.7"
  }
 },
 "nbformat": 4,
 "nbformat_minor": 5
}
