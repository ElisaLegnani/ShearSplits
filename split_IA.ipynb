{
 "cells": [
  {
   "cell_type": "markdown",
   "id": "97743ba0-ac8b-4257-9e02-341dbdd2d251",
   "metadata": {},
   "source": [
    "# Reassign DecisionTree leaves by $\\Delta$IA"
   ]
  },
  {
   "cell_type": "markdown",
   "id": "3bbdb270-61c9-4b45-9f9e-de8cefbb9e14",
   "metadata": {},
   "source": [
    "## Load Balrog-Bagpipes catalog"
   ]
  },
  {
   "cell_type": "code",
   "execution_count": 1,
   "id": "d7104434-b91d-4c44-9610-10053528b32c",
   "metadata": {},
   "outputs": [],
   "source": [
    "import pickle"
   ]
  },
  {
   "cell_type": "code",
   "execution_count": 2,
   "id": "8be50d01-5df8-4cb5-b5b6-16ddd8da3d9b",
   "metadata": {},
   "outputs": [
    {
     "name": "stdout",
     "output_type": "stream",
     "text": [
      "Length of Balrog-Bagpipes catalog: 2417437\n"
     ]
    }
   ],
   "source": [
    "file = '/global/cfs/cdirs/des/elisa/IA_decisiontree/decisiontree_data/balrog-bagpipes.pkl'\n",
    "data = pickle.load(open(file, 'rb'), encoding='latin1')\n",
    "print(f'Length of Balrog-Bagpipes catalog: {len(data)}')"
   ]
  },
  {
   "cell_type": "code",
   "execution_count": 3,
   "id": "7299dfd1-2752-462b-bdfb-ae2c6579c481",
   "metadata": {},
   "outputs": [
    {
     "name": "stdout",
     "output_type": "stream",
     "text": [
      "Length of Balrog-Bagpipes catalog (no nan): 2417396\n"
     ]
    }
   ],
   "source": [
    "data = data.dropna(subset=['stell_best', 'ssfr_best'])\n",
    "print(f'Length of Balrog-Bagpipes catalog (no nan): {len(data)}')"
   ]
  },
  {
   "cell_type": "code",
   "execution_count": 4,
   "id": "ac6dd0ac-f7cf-4335-8da5-a12e9d4cdd64",
   "metadata": {},
   "outputs": [
    {
     "name": "stdout",
     "output_type": "stream",
     "text": [
      "Length of Balrog-Bagpipes Bin0: 613544\n",
      "Length of Balrog-Bagpipes Bin1: 608122\n",
      "Length of Balrog-Bagpipes Bin2: 605458\n",
      "Length of Balrog-Bagpipes Bin3: 590272\n"
     ]
    }
   ],
   "source": [
    "for i in range(4):\n",
    "    print(f'Length of Balrog-Bagpipes Bin{i}: {len(data[data[\"bin\"]==i])}')"
   ]
  },
  {
   "cell_type": "markdown",
   "id": "4b55fe4e-08e4-459f-89c0-1619797186f7",
   "metadata": {},
   "source": [
    "## Load DecisionTrees and train/test samples, predictions"
   ]
  },
  {
   "cell_type": "code",
   "execution_count": 15,
   "id": "387a8a65-4520-4cd5-bed3-6f61f388401b",
   "metadata": {},
   "outputs": [],
   "source": [
    "import joblib\n",
    "import pandas as pd"
   ]
  },
  {
   "cell_type": "code",
   "execution_count": 12,
   "id": "1db86f91-0e58-4f28-a402-f592c507614b",
   "metadata": {},
   "outputs": [
    {
     "name": "stdout",
     "output_type": "stream",
     "text": [
      "Loading DecisionTree Bin0\n",
      "Loading DecisionTree Bin1\n",
      "Loading DecisionTree Bin2\n",
      "Loading DecisionTree Bin3\n"
     ]
    }
   ],
   "source": [
    "decisiontree_dir = '/global/cfs/cdirs/des/elisa/IA_decisiontree/decisiontree_data/'\n",
    "decisiontree_file_template = decisiontree_dir + 'decisiontree_bin{}.joblib'\n",
    "\n",
    "classifiers = {}\n",
    "\n",
    "for i in range(4):\n",
    "    print(f'Loading DecisionTree Bin{i}')\n",
    "    classifiers[i] = joblib.load(decisiontree_file_template.format(i))"
   ]
  },
  {
   "cell_type": "code",
   "execution_count": 16,
   "id": "64f62149-4d7f-4af0-94e6-3a5eb635cf29",
   "metadata": {},
   "outputs": [
    {
     "name": "stdout",
     "output_type": "stream",
     "text": [
      "Length of predictions catalog: 2417396\n"
     ]
    }
   ],
   "source": [
    "file = '/global/cfs/cdirs/des/elisa/IA_decisiontree/decisiontree_data/decisiontree_predictions.pkl'\n",
    "predictions = pickle.load(open(file, 'rb'), encoding='latin1')\n",
    "print(f'Length of predictions catalog: {len(predictions)}')\n",
    "\n",
    "# Add predictions to data\n",
    "data = pd.merge(data, predictions, on='bal_id', how='inner') # Oss: checked it does it correctly"
   ]
  },
  {
   "cell_type": "code",
   "execution_count": 17,
   "id": "b4c78459-dc3f-41da-938d-7ea8fe06b407",
   "metadata": {},
   "outputs": [
    {
     "name": "stdout",
     "output_type": "stream",
     "text": [
      "Bin0\n",
      "- Number of blue galaxies: 67312\n",
      "- Number of red galaxies:  55397\n",
      "Number of leaves: 23189\n",
      "\n",
      "Bin1\n",
      "- Number of blue galaxies: 65563\n",
      "- Number of red galaxies:  56062\n",
      "Number of leaves: 22090\n",
      "\n",
      "Bin2\n",
      "- Number of blue galaxies: 65197\n",
      "- Number of red galaxies:  55895\n",
      "Number of leaves: 23989\n",
      "\n",
      "Bin3\n",
      "- Number of blue galaxies: 68222\n",
      "- Number of red galaxies:  49833\n",
      "Number of leaves: 24669\n",
      "\n"
     ]
    }
   ],
   "source": [
    "for i in range(4):\n",
    "    X_test = data[(data['bin'] == i) & (data['label_pred'] != -1)]\n",
    "    print(f'Bin{i}')\n",
    "    print(f\"- Number of blue galaxies: {len(X_test[X_test['label_pred']==0])}\")\n",
    "    print(f\"- Number of red galaxies:  {len(X_test[X_test['label_pred']==1])}\")\n",
    "    print(f'Number of leaves: {classifiers[i].get_n_leaves()}')\n",
    "    print()"
   ]
  },
  {
   "cell_type": "markdown",
   "id": "75eb9fbd-7d19-4391-85d6-81ecd9db8969",
   "metadata": {},
   "source": [
    "## Produce table with `leaf_id`, `label`, and properties to compute SNR"
   ]
  },
  {
   "cell_type": "code",
   "execution_count": null,
   "id": "952bacad-9055-4411-adb6-5cedb35d25f2",
   "metadata": {},
   "outputs": [],
   "source": []
  },
  {
   "cell_type": "code",
   "execution_count": null,
   "id": "e17a0ceb-e71a-4be1-b452-ab813d496257",
   "metadata": {},
   "outputs": [],
   "source": []
  }
 ],
 "metadata": {
  "kernelspec": {
   "display_name": "des-y6",
   "language": "python",
   "name": "des-y6"
  },
  "language_info": {
   "codemirror_mode": {
    "name": "ipython",
    "version": 3
   },
   "file_extension": ".py",
   "mimetype": "text/x-python",
   "name": "python",
   "nbconvert_exporter": "python",
   "pygments_lexer": "ipython3",
   "version": "3.11.9"
  }
 },
 "nbformat": 4,
 "nbformat_minor": 5
}
