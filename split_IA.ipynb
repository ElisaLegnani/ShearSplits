{
 "cells": [
  {
   "cell_type": "markdown",
   "id": "97743ba0-ac8b-4257-9e02-341dbdd2d251",
   "metadata": {},
   "source": [
    "# Reassign DecisionTree leaves by $\\Delta$IA"
   ]
  },
  {
   "cell_type": "markdown",
   "id": "3bbdb270-61c9-4b45-9f9e-de8cefbb9e14",
   "metadata": {},
   "source": [
    "## Load Balrog-Bagpipes catalog"
   ]
  },
  {
   "cell_type": "code",
   "execution_count": 1,
   "id": "d7104434-b91d-4c44-9610-10053528b32c",
   "metadata": {},
   "outputs": [],
   "source": [
    "import pickle"
   ]
  },
  {
   "cell_type": "code",
   "execution_count": 2,
   "id": "8be50d01-5df8-4cb5-b5b6-16ddd8da3d9b",
   "metadata": {},
   "outputs": [
    {
     "name": "stdout",
     "output_type": "stream",
     "text": [
      "Length of Balrog-Bagpipes catalog: 2417437\n"
     ]
    }
   ],
   "source": [
    "file = '/global/cfs/cdirs/des/elisa/IA_decisiontree/decisiontree_data/balrog-bagpipes.pkl'\n",
    "data = pickle.load(open(file, 'rb'), encoding='latin1')\n",
    "print(f'Length of Balrog-Bagpipes catalog: {len(data)}')"
   ]
  },
  {
   "cell_type": "code",
   "execution_count": 3,
   "id": "7299dfd1-2752-462b-bdfb-ae2c6579c481",
   "metadata": {},
   "outputs": [
    {
     "name": "stdout",
     "output_type": "stream",
     "text": [
      "Length of Balrog-Bagpipes catalog (no nan): 2417396\n"
     ]
    }
   ],
   "source": [
    "data = data.dropna(subset=['stell_best', 'ssfr_best'])\n",
    "print(f'Length of Balrog-Bagpipes catalog (no nan): {len(data)}')"
   ]
  },
  {
   "cell_type": "code",
   "execution_count": 4,
   "id": "ac6dd0ac-f7cf-4335-8da5-a12e9d4cdd64",
   "metadata": {},
   "outputs": [
    {
     "name": "stdout",
     "output_type": "stream",
     "text": [
      "Length of Balrog-Bagpipes Bin0: 613544\n",
      "Length of Balrog-Bagpipes Bin1: 608122\n",
      "Length of Balrog-Bagpipes Bin2: 605458\n",
      "Length of Balrog-Bagpipes Bin3: 590272\n"
     ]
    }
   ],
   "source": [
    "for i in range(4):\n",
    "    print(f\"Length of Balrog-Bagpipes Bin{i}: {len(data[data['bin']==i])}\")"
   ]
  },
  {
   "cell_type": "markdown",
   "id": "4b55fe4e-08e4-459f-89c0-1619797186f7",
   "metadata": {},
   "source": [
    "## Load DecisionTrees and train/test samples, predictions"
   ]
  },
  {
   "cell_type": "code",
   "execution_count": 5,
   "id": "387a8a65-4520-4cd5-bed3-6f61f388401b",
   "metadata": {},
   "outputs": [],
   "source": [
    "import joblib\n",
    "import pandas as pd"
   ]
  },
  {
   "cell_type": "code",
   "execution_count": 6,
   "id": "1db86f91-0e58-4f28-a402-f592c507614b",
   "metadata": {},
   "outputs": [
    {
     "name": "stdout",
     "output_type": "stream",
     "text": [
      "Loading DecisionTree Bin0\n",
      "Loading DecisionTree Bin1\n",
      "Loading DecisionTree Bin2\n",
      "Loading DecisionTree Bin3\n"
     ]
    },
    {
     "name": "stderr",
     "output_type": "stream",
     "text": [
      "/global/homes/e/elegnani/.conda/envs/cosmo_env/lib/python3.11/site-packages/sklearn/base.py:380: InconsistentVersionWarning: Trying to unpickle estimator DecisionTreeClassifier from version 1.5.1 when using version 1.6.1. This might lead to breaking code or invalid results. Use at your own risk. For more info please refer to:\n",
      "https://scikit-learn.org/stable/model_persistence.html#security-maintainability-limitations\n",
      "  warnings.warn(\n"
     ]
    }
   ],
   "source": [
    "decisiontree_dir = '/global/cfs/cdirs/des/elisa/IA_decisiontree/decisiontree_data/'\n",
    "decisiontree_file_template = decisiontree_dir + 'decisiontree_bin{}.joblib'\n",
    "\n",
    "classifiers = {}\n",
    "\n",
    "for i in range(4):\n",
    "    print(f'Loading DecisionTree Bin{i}')\n",
    "    classifiers[i] = joblib.load(decisiontree_file_template.format(i))"
   ]
  },
  {
   "cell_type": "code",
   "execution_count": 7,
   "id": "64f62149-4d7f-4af0-94e6-3a5eb635cf29",
   "metadata": {},
   "outputs": [
    {
     "name": "stdout",
     "output_type": "stream",
     "text": [
      "Length of predictions catalog: 2417396\n"
     ]
    }
   ],
   "source": [
    "file = '/global/cfs/cdirs/des/elisa/IA_decisiontree/decisiontree_data/decisiontree_predictions.pkl'\n",
    "predictions = pickle.load(open(file, 'rb'), encoding='latin1')\n",
    "print(f'Length of predictions catalog: {len(predictions)}')\n",
    "\n",
    "# Add predictions to data\n",
    "data = pd.merge(data, predictions, on='bal_id', how='inner') # Oss: checked it does it correctly"
   ]
  },
  {
   "cell_type": "code",
   "execution_count": 8,
   "id": "b4c78459-dc3f-41da-938d-7ea8fe06b407",
   "metadata": {},
   "outputs": [
    {
     "name": "stdout",
     "output_type": "stream",
     "text": [
      "Bin0\n",
      "- Number of blue galaxies: 67964\n",
      "- Number of red galaxies:  54745\n",
      "Number of leaves: 2910\n",
      "\n",
      "Bin1\n",
      "- Number of blue galaxies: 66327\n",
      "- Number of red galaxies:  55298\n",
      "Number of leaves: 3145\n",
      "\n",
      "Bin2\n",
      "- Number of blue galaxies: 64137\n",
      "- Number of red galaxies:  56955\n",
      "Number of leaves: 3072\n",
      "\n",
      "Bin3\n",
      "- Number of blue galaxies: 67719\n",
      "- Number of red galaxies:  50336\n",
      "Number of leaves: 3091\n",
      "\n"
     ]
    }
   ],
   "source": [
    "for i in range(4):\n",
    "    X_test = data[(data['bin'] == i) & (data['label_pred'] != -1)]\n",
    "    print(f'Bin{i}')\n",
    "    print(f\"- Number of blue galaxies: {len(X_test[X_test['label_pred']==0])}\")\n",
    "    print(f\"- Number of red galaxies:  {len(X_test[X_test['label_pred']==1])}\")\n",
    "    print(f'Number of leaves: {classifiers[i].get_n_leaves()}')\n",
    "    print()"
   ]
  },
  {
   "cell_type": "markdown",
   "id": "75eb9fbd-7d19-4391-85d6-81ecd9db8969",
   "metadata": {},
   "source": [
    "## Produce table with `leaf_id`, `label`, and properties to compute SNR"
   ]
  },
  {
   "cell_type": "code",
   "execution_count": 9,
   "id": "cdb7fbf3-12dd-4d27-9b55-120192d5e47f",
   "metadata": {},
   "outputs": [],
   "source": [
    "import numpy as np\n",
    "import nz_utils as nz\n",
    "from split_IA import get_density, get_shape_noise"
   ]
  },
  {
   "cell_type": "code",
   "execution_count": 10,
   "id": "79e0c66f-b7b3-409a-8b16-1493813d66a9",
   "metadata": {},
   "outputs": [
    {
     "name": "stdout",
     "output_type": "stream",
     "text": [
      "Avg response {0: 0.7475089113672887, 1: 0.7088164619554643, 2: 0.6866178168646271, 3: 0.5944905021663858}\n"
     ]
    }
   ],
   "source": [
    "Responses = {}\n",
    "for i in range(4):\n",
    "    Responses[i] = np.mean(data[data['bin']==i]['unsheared/R11']+data[data['bin']==i]['unsheared/R22'])/2.\n",
    "print('Avg response', Responses)"
   ]
  },
  {
   "cell_type": "code",
   "execution_count": 11,
   "id": "3426e1b2-70a0-405c-a84c-67a36f5ee772",
   "metadata": {},
   "outputs": [],
   "source": [
    "def get_mapping(classifier, X_train, Response):\n",
    "\n",
    "    # mapping leaf_id - label\n",
    "    leaf_ids = np.where(classifier.tree_.children_left == -1)[0]\n",
    "    leaf_labels = [np.argmax(classifier.tree_.value[leaf][0]) for leaf in leaf_ids]\n",
    "    leaf_df = pd.DataFrame({\n",
    "        'leaf_id': leaf_ids,\n",
    "        'label': leaf_labels\n",
    "    })\n",
    "    \n",
    "    # save bal_ids of the training sdample that fall into each leaf\n",
    "    flux_columns = ['unsheared/flux_i', 'unsheared/flux_r', 'unsheared/flux_z']\n",
    "    leaf_assignments = classifier.apply(X_train[flux_columns]) # re-apply to train dataset\n",
    "    df_with_leaf = X_train.copy()\n",
    "    df_with_leaf['leaf_id'] = leaf_assignments\n",
    "    \n",
    "    bal_ids = df_with_leaf.groupby('leaf_id')['bal_id'].apply(list)\n",
    "    leaf_df = leaf_df.merge(bal_ids, on='leaf_id', how='left')\n",
    "\n",
    "    counts = bal_ids.apply(len).rename('n_train_objects')\n",
    "    leaf_df = leaf_df.merge(counts, on='leaf_id', how='left')\n",
    "    \n",
    "    empty_leaves = leaf_df[leaf_df['bal_id'].isna()]\n",
    "    if not empty_leaves.empty:\n",
    "        print('Empty leaves:', empty_leaves['leaf_id'].to_numpy())\n",
    "\n",
    "    df_with_leaf['sum_w2e2_1'] = (df_with_leaf['unsheared/weight'] ** 2) * ((df_with_leaf['unsheared/e_1'] / Response) ** 2)\n",
    "    df_with_leaf['sum_w2e2_2'] = (df_with_leaf['unsheared/weight'] ** 2) * ((df_with_leaf['unsheared/e_2'] / Response) ** 2)\n",
    "    df_with_leaf['sum_w'] = df_with_leaf['unsheared/weight']\n",
    "    df_with_leaf['sum_w2'] = df_with_leaf['unsheared/weight'] ** 2\n",
    "    \n",
    "    df_with_leaf['stell_mean'] = df_with_leaf['stell_best']\n",
    "\n",
    "    aggregations = {\n",
    "        'sum_w2e2_1': 'sum',\n",
    "        'sum_w2e2_2': 'sum',\n",
    "        'sum_w': 'sum',\n",
    "        'sum_w2': 'sum',\n",
    "        'pzc_weighted': 'mean',\n",
    "        'stell_mean': 'mean',\n",
    "    }\n",
    "    \n",
    "    stats = df_with_leaf.groupby('leaf_id').agg(aggregations).reset_index()\n",
    "    leaf_df = leaf_df.merge(stats, on='leaf_id', how='left')\n",
    "\n",
    "    len_pileup = 300\n",
    "    z3 = np.linspace(0, 2.99, len_pileup)\n",
    "\n",
    "    pz_per_leaf = df_with_leaf.groupby('leaf_id')['pzc_weighted'].apply(\n",
    "        lambda x: np.mean(np.stack(x.to_numpy()), axis=0)\n",
    "    )\n",
    "    pz_pileup_smooth = pz_per_leaf.apply(lambda pz: nz.pileup_smooth_normalize(pz, z3))\n",
    "    pz_pileup_smooth_df = pd.DataFrame({\n",
    "        'leaf_id': pz_pileup_smooth.index,\n",
    "        'pz_pileup_smooth': pz_pileup_smooth.values\n",
    "    })\n",
    "\n",
    "    z_means = pz_pileup_smooth_df['pz_pileup_smooth'].apply(nz.median_z) # Use median instead\n",
    "    pz_pileup_smooth_df['z_mean'] = z_means\n",
    "\n",
    "    leaf_df = leaf_df.merge(pz_pileup_smooth_df, on='leaf_id', how='left')\n",
    "\n",
    "    leaf_df['density'] = leaf_df.apply(lambda row: get_density(np.array([row['sum_w']]), np.array([row['sum_w2']])), axis=1)\n",
    "    leaf_df['shape_noise'] = leaf_df.apply(lambda row: get_shape_noise(np.array([row['sum_w2e2_1']]), np.array([row['sum_w2e2_2']]), np.array([row['sum_w']]), np.array([row['sum_w2']])), axis=1)\n",
    "    \n",
    "    return leaf_df"
   ]
  },
  {
   "cell_type": "code",
   "execution_count": 12,
   "id": "be85f71f-541e-43fe-86c6-4f576e69e5dc",
   "metadata": {},
   "outputs": [],
   "source": [
    "leaf_df = {}\n",
    "for i in range(4):\n",
    "    clf = classifiers[i]\n",
    "    X_train = data[(data['bin'] == i) & (data['label_pred'] == -1)]\n",
    "    R = Responses[i]\n",
    "\n",
    "    leaf_df[i] = get_mapping(clf, X_train, R)"
   ]
  },
  {
   "cell_type": "code",
   "execution_count": 13,
   "id": "2b0f6677-7033-492e-9dbd-21a88f4ed72e",
   "metadata": {},
   "outputs": [
    {
     "data": {
      "text/html": [
       "<div>\n",
       "<style scoped>\n",
       "    .dataframe tbody tr th:only-of-type {\n",
       "        vertical-align: middle;\n",
       "    }\n",
       "\n",
       "    .dataframe tbody tr th {\n",
       "        vertical-align: top;\n",
       "    }\n",
       "\n",
       "    .dataframe thead th {\n",
       "        text-align: right;\n",
       "    }\n",
       "</style>\n",
       "<table border=\"1\" class=\"dataframe\">\n",
       "  <thead>\n",
       "    <tr style=\"text-align: right;\">\n",
       "      <th></th>\n",
       "      <th>leaf_id</th>\n",
       "      <th>label</th>\n",
       "      <th>bal_id</th>\n",
       "      <th>n_train_objects</th>\n",
       "      <th>sum_w2e2_1</th>\n",
       "      <th>sum_w2e2_2</th>\n",
       "      <th>sum_w</th>\n",
       "      <th>sum_w2</th>\n",
       "      <th>pzc_weighted</th>\n",
       "      <th>stell_mean</th>\n",
       "      <th>pz_pileup_smooth</th>\n",
       "      <th>z_mean</th>\n",
       "      <th>density</th>\n",
       "      <th>shape_noise</th>\n",
       "    </tr>\n",
       "  </thead>\n",
       "  <tbody>\n",
       "    <tr>\n",
       "      <th>0</th>\n",
       "      <td>13</td>\n",
       "      <td>0</td>\n",
       "      <td>[10020804331183.0, 10035306205271.0, 100431035...</td>\n",
       "      <td>131</td>\n",
       "      <td>2210.189738</td>\n",
       "      <td>2707.194780</td>\n",
       "      <td>1755.515515</td>\n",
       "      <td>2.410332e+04</td>\n",
       "      <td>[0.0, 0.295592094210613, 0.13632246460925823, ...</td>\n",
       "      <td>8.801395</td>\n",
       "      <td>[0.23272041860133239, 0.48078653442049324, 0.6...</td>\n",
       "      <td>0.49</td>\n",
       "      <td>0.000009</td>\n",
       "      <td>0.319384</td>\n",
       "    </tr>\n",
       "    <tr>\n",
       "      <th>1</th>\n",
       "      <td>16</td>\n",
       "      <td>0</td>\n",
       "      <td>[1003320424964.0, 1005360241551.0, 10061604331...</td>\n",
       "      <td>167</td>\n",
       "      <td>3598.897245</td>\n",
       "      <td>3169.837673</td>\n",
       "      <td>2342.637480</td>\n",
       "      <td>3.415288e+04</td>\n",
       "      <td>[0.0, 0.2442871346669292, 0.11045340796931213,...</td>\n",
       "      <td>8.632951</td>\n",
       "      <td>[0.16040708328545217, 0.39284480097779506, 0.5...</td>\n",
       "      <td>0.42</td>\n",
       "      <td>0.000011</td>\n",
       "      <td>0.314793</td>\n",
       "    </tr>\n",
       "    <tr>\n",
       "      <th>2</th>\n",
       "      <td>17</td>\n",
       "      <td>0</td>\n",
       "      <td>[1000060404044.0, 10040903332208.0, 1001180154...</td>\n",
       "      <td>155</td>\n",
       "      <td>2650.567671</td>\n",
       "      <td>2747.638029</td>\n",
       "      <td>2154.605207</td>\n",
       "      <td>3.107351e+04</td>\n",
       "      <td>[0.0, 0.40257984030440574, 0.24479115022751916...</td>\n",
       "      <td>8.535737</td>\n",
       "      <td>[0.47071070940936144, 0.7992886266213616, 1.05...</td>\n",
       "      <td>0.43</td>\n",
       "      <td>0.000010</td>\n",
       "      <td>0.294723</td>\n",
       "    </tr>\n",
       "    <tr>\n",
       "      <th>3</th>\n",
       "      <td>21</td>\n",
       "      <td>0</td>\n",
       "      <td>[1000530283278.0, 1002200445782.0, 10034804914...</td>\n",
       "      <td>124</td>\n",
       "      <td>2085.648134</td>\n",
       "      <td>2197.262429</td>\n",
       "      <td>1642.189077</td>\n",
       "      <td>2.236435e+04</td>\n",
       "      <td>[0.0, 0.3879136130353167, 0.06014674921207507,...</td>\n",
       "      <td>8.663033</td>\n",
       "      <td>[0.2762254730558521, 0.5273053737649367, 0.722...</td>\n",
       "      <td>0.56</td>\n",
       "      <td>0.000008</td>\n",
       "      <td>0.309440</td>\n",
       "    </tr>\n",
       "    <tr>\n",
       "      <th>4</th>\n",
       "      <td>23</td>\n",
       "      <td>0</td>\n",
       "      <td>[1003470520522.0, 10035105205214.0, 1005430495...</td>\n",
       "      <td>121</td>\n",
       "      <td>1654.773896</td>\n",
       "      <td>1953.897155</td>\n",
       "      <td>1481.570121</td>\n",
       "      <td>1.852016e+04</td>\n",
       "      <td>[0.0, 0.20554846290227557, 0.07002891156288812...</td>\n",
       "      <td>8.671030</td>\n",
       "      <td>[0.18398551466123872, 0.3391358316152827, 0.46...</td>\n",
       "      <td>0.57</td>\n",
       "      <td>0.000008</td>\n",
       "      <td>0.312131</td>\n",
       "    </tr>\n",
       "    <tr>\n",
       "      <th>...</th>\n",
       "      <td>...</td>\n",
       "      <td>...</td>\n",
       "      <td>...</td>\n",
       "      <td>...</td>\n",
       "      <td>...</td>\n",
       "      <td>...</td>\n",
       "      <td>...</td>\n",
       "      <td>...</td>\n",
       "      <td>...</td>\n",
       "      <td>...</td>\n",
       "      <td>...</td>\n",
       "      <td>...</td>\n",
       "      <td>...</td>\n",
       "      <td>...</td>\n",
       "    </tr>\n",
       "    <tr>\n",
       "      <th>2905</th>\n",
       "      <td>5813</td>\n",
       "      <td>1</td>\n",
       "      <td>[10032305248203.0, 10032806122180.0, 100333039...</td>\n",
       "      <td>108</td>\n",
       "      <td>25589.499343</td>\n",
       "      <td>24402.526077</td>\n",
       "      <td>5088.693710</td>\n",
       "      <td>2.450189e+05</td>\n",
       "      <td>[0.0, 0.0, 0.013799748470791882, 0.00262195220...</td>\n",
       "      <td>10.799933</td>\n",
       "      <td>[0.35441566433884963, 0.04703608658996395, -0....</td>\n",
       "      <td>0.24</td>\n",
       "      <td>0.000007</td>\n",
       "      <td>0.319400</td>\n",
       "    </tr>\n",
       "    <tr>\n",
       "      <th>2906</th>\n",
       "      <td>5814</td>\n",
       "      <td>1</td>\n",
       "      <td>[1003270433160.0, 1004080233253.0, 10051102415...</td>\n",
       "      <td>132</td>\n",
       "      <td>24360.039543</td>\n",
       "      <td>25344.890042</td>\n",
       "      <td>6407.021744</td>\n",
       "      <td>3.213810e+05</td>\n",
       "      <td>[0.0, 0.0, 0.005662377394246682, 0.00318970469...</td>\n",
       "      <td>10.381645</td>\n",
       "      <td>[-0.05545779213773689, -0.14611211155266793, -...</td>\n",
       "      <td>0.19</td>\n",
       "      <td>0.000009</td>\n",
       "      <td>0.278083</td>\n",
       "    </tr>\n",
       "    <tr>\n",
       "      <th>2907</th>\n",
       "      <td>5815</td>\n",
       "      <td>1</td>\n",
       "      <td>[1004550312357.0, 10011110126152.0, 1001450620...</td>\n",
       "      <td>100</td>\n",
       "      <td>14572.442482</td>\n",
       "      <td>23876.008779</td>\n",
       "      <td>4846.355384</td>\n",
       "      <td>2.400326e+05</td>\n",
       "      <td>[0.0, 0.0, 0.0, 0.0, 0.0, 0.0, 0.0, 0.00307253...</td>\n",
       "      <td>10.434139</td>\n",
       "      <td>[0.3363290556777701, 0.2638599330399011, 0.160...</td>\n",
       "      <td>0.24</td>\n",
       "      <td>0.000007</td>\n",
       "      <td>0.283002</td>\n",
       "    </tr>\n",
       "    <tr>\n",
       "      <th>2908</th>\n",
       "      <td>5817</td>\n",
       "      <td>1</td>\n",
       "      <td>[100057032491089.0, 100507041231093.0, 1002550...</td>\n",
       "      <td>100</td>\n",
       "      <td>24014.608308</td>\n",
       "      <td>14449.900378</td>\n",
       "      <td>4846.911137</td>\n",
       "      <td>2.400363e+05</td>\n",
       "      <td>[0.0, 0.33565587250812357, 2.7238040271273602,...</td>\n",
       "      <td>10.297568</td>\n",
       "      <td>[0.24161985876808884, 0.17533915346495424, 0.2...</td>\n",
       "      <td>0.17</td>\n",
       "      <td>0.000007</td>\n",
       "      <td>0.283059</td>\n",
       "    </tr>\n",
       "    <tr>\n",
       "      <th>2909</th>\n",
       "      <td>5818</td>\n",
       "      <td>1</td>\n",
       "      <td>[1002260470663.0, 1002140383249.0, 10032601207...</td>\n",
       "      <td>1309</td>\n",
       "      <td>239878.020463</td>\n",
       "      <td>256487.461261</td>\n",
       "      <td>62186.384136</td>\n",
       "      <td>3.000119e+06</td>\n",
       "      <td>[0.0, 1.435175643981572, 0.5625282670514253, 0...</td>\n",
       "      <td>10.398238</td>\n",
       "      <td>[-0.26447725039347914, 0.03345301636769009, 0....</td>\n",
       "      <td>0.18</td>\n",
       "      <td>0.000086</td>\n",
       "      <td>0.287618</td>\n",
       "    </tr>\n",
       "  </tbody>\n",
       "</table>\n",
       "<p>2910 rows × 14 columns</p>\n",
       "</div>"
      ],
      "text/plain": [
       "      leaf_id  label                                             bal_id  \\\n",
       "0          13      0  [10020804331183.0, 10035306205271.0, 100431035...   \n",
       "1          16      0  [1003320424964.0, 1005360241551.0, 10061604331...   \n",
       "2          17      0  [1000060404044.0, 10040903332208.0, 1001180154...   \n",
       "3          21      0  [1000530283278.0, 1002200445782.0, 10034804914...   \n",
       "4          23      0  [1003470520522.0, 10035105205214.0, 1005430495...   \n",
       "...       ...    ...                                                ...   \n",
       "2905     5813      1  [10032305248203.0, 10032806122180.0, 100333039...   \n",
       "2906     5814      1  [1003270433160.0, 1004080233253.0, 10051102415...   \n",
       "2907     5815      1  [1004550312357.0, 10011110126152.0, 1001450620...   \n",
       "2908     5817      1  [100057032491089.0, 100507041231093.0, 1002550...   \n",
       "2909     5818      1  [1002260470663.0, 1002140383249.0, 10032601207...   \n",
       "\n",
       "      n_train_objects     sum_w2e2_1     sum_w2e2_2         sum_w  \\\n",
       "0                 131    2210.189738    2707.194780   1755.515515   \n",
       "1                 167    3598.897245    3169.837673   2342.637480   \n",
       "2                 155    2650.567671    2747.638029   2154.605207   \n",
       "3                 124    2085.648134    2197.262429   1642.189077   \n",
       "4                 121    1654.773896    1953.897155   1481.570121   \n",
       "...               ...            ...            ...           ...   \n",
       "2905              108   25589.499343   24402.526077   5088.693710   \n",
       "2906              132   24360.039543   25344.890042   6407.021744   \n",
       "2907              100   14572.442482   23876.008779   4846.355384   \n",
       "2908              100   24014.608308   14449.900378   4846.911137   \n",
       "2909             1309  239878.020463  256487.461261  62186.384136   \n",
       "\n",
       "            sum_w2                                       pzc_weighted  \\\n",
       "0     2.410332e+04  [0.0, 0.295592094210613, 0.13632246460925823, ...   \n",
       "1     3.415288e+04  [0.0, 0.2442871346669292, 0.11045340796931213,...   \n",
       "2     3.107351e+04  [0.0, 0.40257984030440574, 0.24479115022751916...   \n",
       "3     2.236435e+04  [0.0, 0.3879136130353167, 0.06014674921207507,...   \n",
       "4     1.852016e+04  [0.0, 0.20554846290227557, 0.07002891156288812...   \n",
       "...            ...                                                ...   \n",
       "2905  2.450189e+05  [0.0, 0.0, 0.013799748470791882, 0.00262195220...   \n",
       "2906  3.213810e+05  [0.0, 0.0, 0.005662377394246682, 0.00318970469...   \n",
       "2907  2.400326e+05  [0.0, 0.0, 0.0, 0.0, 0.0, 0.0, 0.0, 0.00307253...   \n",
       "2908  2.400363e+05  [0.0, 0.33565587250812357, 2.7238040271273602,...   \n",
       "2909  3.000119e+06  [0.0, 1.435175643981572, 0.5625282670514253, 0...   \n",
       "\n",
       "      stell_mean                                   pz_pileup_smooth  z_mean  \\\n",
       "0       8.801395  [0.23272041860133239, 0.48078653442049324, 0.6...    0.49   \n",
       "1       8.632951  [0.16040708328545217, 0.39284480097779506, 0.5...    0.42   \n",
       "2       8.535737  [0.47071070940936144, 0.7992886266213616, 1.05...    0.43   \n",
       "3       8.663033  [0.2762254730558521, 0.5273053737649367, 0.722...    0.56   \n",
       "4       8.671030  [0.18398551466123872, 0.3391358316152827, 0.46...    0.57   \n",
       "...          ...                                                ...     ...   \n",
       "2905   10.799933  [0.35441566433884963, 0.04703608658996395, -0....    0.24   \n",
       "2906   10.381645  [-0.05545779213773689, -0.14611211155266793, -...    0.19   \n",
       "2907   10.434139  [0.3363290556777701, 0.2638599330399011, 0.160...    0.24   \n",
       "2908   10.297568  [0.24161985876808884, 0.17533915346495424, 0.2...    0.17   \n",
       "2909   10.398238  [-0.26447725039347914, 0.03345301636769009, 0....    0.18   \n",
       "\n",
       "       density  shape_noise  \n",
       "0     0.000009     0.319384  \n",
       "1     0.000011     0.314793  \n",
       "2     0.000010     0.294723  \n",
       "3     0.000008     0.309440  \n",
       "4     0.000008     0.312131  \n",
       "...        ...          ...  \n",
       "2905  0.000007     0.319400  \n",
       "2906  0.000009     0.278083  \n",
       "2907  0.000007     0.283002  \n",
       "2908  0.000007     0.283059  \n",
       "2909  0.000086     0.287618  \n",
       "\n",
       "[2910 rows x 14 columns]"
      ]
     },
     "execution_count": 13,
     "metadata": {},
     "output_type": "execute_result"
    }
   ],
   "source": [
    "leaf_df[0]"
   ]
  },
  {
   "cell_type": "code",
   "execution_count": 14,
   "id": "d48fbdec-db0a-451b-a86c-89cd4a7e234a",
   "metadata": {},
   "outputs": [
    {
     "data": {
      "image/png": "[encoded data removed]",
      "text/plain": [
       "<Figure size 900x500 with 1 Axes>"
      ]
     },
     "metadata": {},
     "output_type": "display_data"
    }
   ],
   "source": [
    "from plot_utils import *\n",
    "\n",
    "len_pileup = 300\n",
    "z3 = np.linspace(0, 2.99, len_pileup)\n",
    "fig = plt.figure(figsize=(9, 5))\n",
    "for i in range(10):\n",
    "    plt.plot(z3, leaf_df[0]['pz_pileup_smooth'][i+200], alpha=i/10, color='tab:blue') # OK to have negative values and some big pile-up?\n",
    "    plt.hlines(0, 0, 3, ls='--', lw=1.2, color='k')\n",
    "    plt.xlabel(r'$z$')\n",
    "    plt.ylabel('n')\n",
    "plt.show()"
   ]
  },
  {
   "cell_type": "code",
   "execution_count": null,
   "id": "52fafe57-7300-4290-8618-fdfcee6569ed",
   "metadata": {},
   "outputs": [],
   "source": []
  }
 ],
 "metadata": {
  "kernelspec": {
   "display_name": "cosmo_env",
   "language": "python",
   "name": "cosmo_env"
  },
  "language_info": {
   "codemirror_mode": {
    "name": "ipython",
    "version": 3
   },
   "file_extension": ".py",
   "mimetype": "text/x-python",
   "name": "python",
   "nbconvert_exporter": "python",
   "pygments_lexer": "ipython3",
   "version": "3.11.7"
  }
 },
 "nbformat": 4,
 "nbformat_minor": 5
}
